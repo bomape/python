{
 "cells": [
  {
   "attachments": {},
   "cell_type": "markdown",
   "metadata": {},
   "source": [
    "### COLLECTIONS\n",
    "- ``defaultdict``\n",
    "- ``Counter``"
   ]
  },
  {
   "attachments": {},
   "cell_type": "markdown",
   "metadata": {},
   "source": [
    "#### ``defaultdict``\n",
    "- Tipo de diccionario con **función de inicialización** incorporada, la cual debe tener un valor por defecto\n",
    "- Resuelve el ``KeyError`` ocasionado cuando se trata de acceder a una clave inexistente de un diccionario"
   ]
  },
  {
   "cell_type": "code",
   "execution_count": 12,
   "metadata": {},
   "outputs": [
    {
     "ename": "KeyError",
     "evalue": "'tres'",
     "output_type": "error",
     "traceback": [
      "\u001b[1;31m---------------------------------------------------------------------------\u001b[0m",
      "\u001b[1;31mKeyError\u001b[0m                                  Traceback (most recent call last)",
      "Cell \u001b[1;32mIn[12], line 2\u001b[0m\n\u001b[0;32m      1\u001b[0m d1 \u001b[39m=\u001b[39m {\u001b[39m1\u001b[39m: \u001b[39m'\u001b[39m\u001b[39muno\u001b[39m\u001b[39m'\u001b[39m, \u001b[39m'\u001b[39m\u001b[39mdos\u001b[39m\u001b[39m'\u001b[39m: \u001b[39m2\u001b[39m}\n\u001b[1;32m----> 2\u001b[0m d1[\u001b[39m'\u001b[39;49m\u001b[39mtres\u001b[39;49m\u001b[39m'\u001b[39;49m]\n",
      "\u001b[1;31mKeyError\u001b[0m: 'tres'"
     ]
    }
   ],
   "source": [
    "d1 = {1: 'uno', 'dos': 2}\n",
    "d1['tres']"
   ]
  },
  {
   "attachments": {},
   "cell_type": "markdown",
   "metadata": {},
   "source": [
    "- Este tipo de diccionario, crea una clave con un valor por defecto que se ha definido\n",
    "- Se define según ``defaultdict(<funcion>)``"
   ]
  },
  {
   "cell_type": "code",
   "execution_count": null,
   "metadata": {},
   "outputs": [
    {
     "name": "stdout",
     "output_type": "stream",
     "text": [
      "defaultdict(<function <lambda> at 0x000001902B434CA0>, {})\n",
      "7\n",
      "defaultdict(<function <lambda> at 0x000001902B434CA0>, {'hola': 7})\n"
     ]
    }
   ],
   "source": [
    "from collections import defaultdict\n",
    "d4 = defaultdict(lambda: 7)\n",
    "print(d4)           # diccionario vacío\n",
    "print(d4['hola'])   # la key 'hola' no existe, pero defaultdict le asigna el valor por defecto mediante una función (lambda:7, en este caso)\n",
    "print(d4)           # el diccionario ya no está vacío, tiene la key creada en la consulta de antes"
   ]
  },
  {
   "cell_type": "code",
   "execution_count": null,
   "metadata": {},
   "outputs": [
    {
     "name": "stdout",
     "output_type": "stream",
     "text": [
      "d: defaultdict(<function default_factory at 0x00000190298408B0>, {'foo': 'bar'})\n",
      "foo => bar\n",
      "bar => default value\n"
     ]
    }
   ],
   "source": [
    "def default_factory():\n",
    "    return 'default value'\n",
    "\n",
    "\n",
    "d = defaultdict(default_factory, foo='bar')\n",
    "print('d:', d)\n",
    "print('foo =>', d['foo'])\n",
    "print('bar =>', d['bar'])"
   ]
  },
  {
   "attachments": {},
   "cell_type": "markdown",
   "metadata": {},
   "source": [
    "#### ``Counter``\n",
    "- Mantiene la cuenta de cuántas veces se repite un elemento en una secuencia"
   ]
  },
  {
   "cell_type": "code",
   "execution_count": 14,
   "metadata": {},
   "outputs": [
    {
     "name": "stdout",
     "output_type": "stream",
     "text": [
      "Counter({'b': 3, 'a': 2, 'c': 1})\n"
     ]
    }
   ],
   "source": [
    "from collections import Counter\n",
    "\n",
    "c = Counter(['a','b','c','a','b','b'])\n",
    "print(c)"
   ]
  },
  {
   "cell_type": "code",
   "execution_count": 15,
   "metadata": {},
   "outputs": [
    {
     "name": "stdout",
     "output_type": "stream",
     "text": [
      "Counter({'a': 5, 'b': 5, 'c': 2, 'd': 1})\n"
     ]
    }
   ],
   "source": [
    "c.update('daabcab')\n",
    "print(c)"
   ]
  },
  {
   "cell_type": "code",
   "execution_count": 16,
   "metadata": {},
   "outputs": [
    {
     "name": "stdout",
     "output_type": "stream",
     "text": [
      "Counter({'a': 6, 'b': 5, 'c': 2, 'd': 1})\n"
     ]
    }
   ],
   "source": [
    "c.update({'a':1})\n",
    "print(c)"
   ]
  },
  {
   "cell_type": "code",
   "execution_count": 17,
   "metadata": {},
   "outputs": [
    {
     "name": "stdout",
     "output_type": "stream",
     "text": [
      "Counter({'a': 6, 'd': 6, 'b': 5, 'c': 2})\n"
     ]
    }
   ],
   "source": [
    "c.update(d=5)\n",
    "print(c)"
   ]
  }
 ],
 "metadata": {
  "kernelspec": {
   "display_name": "Python 3",
   "language": "python",
   "name": "python3"
  },
  "language_info": {
   "codemirror_mode": {
    "name": "ipython",
    "version": 3
   },
   "file_extension": ".py",
   "mimetype": "text/x-python",
   "name": "python",
   "nbconvert_exporter": "python",
   "pygments_lexer": "ipython3",
   "version": "3.10.9"
  },
  "orig_nbformat": 4,
  "vscode": {
   "interpreter": {
    "hash": "f2602f62725692c171be4634a254054368e54a417e74eada098f42e0fd72e7fd"
   }
  }
 },
 "nbformat": 4,
 "nbformat_minor": 2
}
