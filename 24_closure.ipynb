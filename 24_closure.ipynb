{
 "cells": [
  {
   "attachments": {},
   "cell_type": "markdown",
   "metadata": {},
   "source": [
    "### CLOSURE\n",
    "- Concepto\n",
    "- Uso"
   ]
  },
  {
   "attachments": {},
   "cell_type": "markdown",
   "metadata": {},
   "source": [
    "#### Concepto\n",
    "- Son **funciones anidadas** dentro de una función *externa*.\n",
    "- Los *closures* pueden acceder a variables del ámbito de la función externa, sin necesidad de especificarlas como ``nonlocal``.\n",
    "- Evitan el uso de variables globales y proporcionan algún tipo de **ocultación de datos**.\n",
    "- Permiten ocultar la complejidad de una función, es decir, englobar esa funcion interna compleja dentro de una funcion externa que devuelva la referencia de esta funcion interna"
   ]
  },
  {
   "cell_type": "code",
   "execution_count": 2,
   "metadata": {},
   "outputs": [
    {
     "name": "stdout",
     "output_type": "stream",
     "text": [
      "<function externa.<locals>.interna at 0x000001EE012B8678>\n",
      "pepe\n"
     ]
    }
   ],
   "source": [
    "def externa(nombre):\n",
    "    # esta es la funcion externa\n",
    "    def interna():\n",
    "        # funcion interna\n",
    "        print(nombre)\n",
    "    return interna\n",
    "\n",
    "mifunc = externa('pepe')\n",
    "print(mifunc)\n",
    "mifunc()"
   ]
  },
  {
   "cell_type": "code",
   "execution_count": null,
   "metadata": {},
   "outputs": [],
   "source": []
  }
 ],
 "metadata": {
  "kernelspec": {
   "display_name": "Python 3",
   "language": "python",
   "name": "python3"
  },
  "language_info": {
   "codemirror_mode": {
    "name": "ipython",
    "version": 3
   },
   "file_extension": ".py",
   "mimetype": "text/x-python",
   "name": "python",
   "nbconvert_exporter": "python",
   "pygments_lexer": "ipython3",
   "version": "3.7.9"
  },
  "orig_nbformat": 4,
  "vscode": {
   "interpreter": {
    "hash": "f2602f62725692c171be4634a254054368e54a417e74eada098f42e0fd72e7fd"
   }
  }
 },
 "nbformat": 4,
 "nbformat_minor": 2
}
