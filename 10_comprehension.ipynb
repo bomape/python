{
 "cells": [
  {
   "attachments": {},
   "cell_type": "markdown",
   "metadata": {},
   "source": [
    "### COMPREHENSION\n",
    "- Concepto\n",
    "- List comprehensions\n",
    "- Dict comprehensions\n",
    "- *Ejercicios*"
   ]
  },
  {
   "attachments": {},
   "cell_type": "markdown",
   "metadata": {},
   "source": [
    "#### Concepto\n",
    "- Permite simplificar la creación de listas y diccionarios en una sola línea y de forma elegante\n",
    "- Reducen la cantidad de código y, bien usadas, son más legibles."
   ]
  },
  {
   "cell_type": "code",
   "execution_count": 22,
   "metadata": {},
   "outputs": [
    {
     "name": "stdout",
     "output_type": "stream",
     "text": [
      "[4, 16, 36, 64]\n"
     ]
    }
   ],
   "source": [
    "lista = [1,2,3,4,5,6,7,8,9]\n",
    "lista_comprehension = [n**2 for n in lista if n%2 == 0]\n",
    "print(lista_comprehension)"
   ]
  },
  {
   "attachments": {},
   "cell_type": "markdown",
   "metadata": {},
   "source": [
    "#### List comprehensions \n",
    "- Es la forma más básica de *comprehension*"
   ]
  },
  {
   "cell_type": "code",
   "execution_count": 23,
   "metadata": {},
   "outputs": [
    {
     "name": "stdout",
     "output_type": "stream",
     "text": [
      "['SPARTA']\n"
     ]
    }
   ],
   "source": [
    "sentence = ['this', 'is', 'sparta']\n",
    "sentence_list = [word.upper() for word in sentence if word.startswith('sp')]\n",
    "print(sentence_list)"
   ]
  },
  {
   "attachments": {},
   "cell_type": "markdown",
   "metadata": {},
   "source": [
    "#### Dict comprehensions\n",
    "- A diferencia de las listas, se hace entre llaves y es necesario indicar clave-valor"
   ]
  },
  {
   "cell_type": "code",
   "execution_count": 24,
   "metadata": {},
   "outputs": [
    {
     "name": "stdout",
     "output_type": "stream",
     "text": [
      "{'this': 4, 'is': 2, 'sparta': 6}\n"
     ]
    }
   ],
   "source": [
    "sentence_dict = {word: len(word) for word in sentence}\n",
    "print(sentence_dict)"
   ]
  },
  {
   "attachments": {},
   "cell_type": "markdown",
   "metadata": {},
   "source": [
    "#### *EJERCICIOS*\n",
    "- List comprehension filtrado"
   ]
  },
  {
   "attachments": {},
   "cell_type": "markdown",
   "metadata": {},
   "source": [
    "##### List comprehension filtrado\n",
    "Dado un número N, calcular la lista de 0 a N de todos aquellos múltiplos de 5 pero no divisibles por 7"
   ]
  },
  {
   "cell_type": "code",
   "execution_count": 21,
   "metadata": {},
   "outputs": [
    {
     "name": "stdout",
     "output_type": "stream",
     "text": [
      "[5, 10, 15, 20, 25, 30, 40, 45, 50, 55, 60, 65, 75, 80, 85, 90, 95, 100]\n"
     ]
    }
   ],
   "source": [
    "N = 100\n",
    "\n",
    "resultados = [n for n in range(N+1) if n%5==0 and n%7!=0]\n",
    "print(resultados)\n",
    "# No aparece ni 35 ni 70 por ser divisibles entre 7\n"
   ]
  }
 ],
 "metadata": {
  "kernelspec": {
   "display_name": "Python 3",
   "language": "python",
   "name": "python3"
  },
  "language_info": {
   "codemirror_mode": {
    "name": "ipython",
    "version": 3
   },
   "file_extension": ".py",
   "mimetype": "text/x-python",
   "name": "python",
   "nbconvert_exporter": "python",
   "pygments_lexer": "ipython3",
   "version": "3.10.9"
  },
  "orig_nbformat": 4,
  "vscode": {
   "interpreter": {
    "hash": "f2602f62725692c171be4634a254054368e54a417e74eada098f42e0fd72e7fd"
   }
  }
 },
 "nbformat": 4,
 "nbformat_minor": 2
}
