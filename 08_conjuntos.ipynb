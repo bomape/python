{
 "cells": [
  {
   "attachments": {},
   "cell_type": "markdown",
   "metadata": {},
   "source": [
    "### CONJUNTOS\n",
    "- Concepto\n",
    "- Operaciones con conjuntos (``in``, ``not in``)\n",
    "- Operaciones entre conjuntos (diferencia ``-``, unión ``|``, intersección ``&`` y diferencia simétrica ``^``)\n",
    "- ``frozenset``"
   ]
  },
  {
   "attachments": {},
   "cell_type": "markdown",
   "metadata": {},
   "source": [
    "#### CONCEPTO\n",
    "- Colecciones **no ordenadas sin elementos duplicados**\n",
    "- Notados con valores entre comas y entre llaves\n",
    "- Pueden definirse mediante ``set()``"
   ]
  },
  {
   "cell_type": "code",
   "execution_count": 33,
   "metadata": {},
   "outputs": [
    {
     "name": "stdout",
     "output_type": "stream",
     "text": [
      "{'cartera', 'llaves'} <class 'set'>\n",
      "{'teléfono'} <class 'set'>\n"
     ]
    },
    {
     "data": {
      "text/plain": [
       "True"
      ]
     },
     "execution_count": 33,
     "metadata": {},
     "output_type": "execute_result"
    }
   ],
   "source": [
    "bolsillo_derecho = {'cartera', 'llaves'}\n",
    "bolsillo_izquierdo = set(('teléfono',))\n",
    "\n",
    "print(bolsillo_derecho, type(bolsillo_derecho))\n",
    "print(bolsillo_izquierdo, type(bolsillo_izquierdo))\n",
    "\n",
    "'llaves' in bolsillo_derecho"
   ]
  },
  {
   "attachments": {},
   "cell_type": "markdown",
   "metadata": {},
   "source": [
    "#### OPERACIONES CON CONJUNTOS\n",
    "- ``in``: devuelve valor booleano ``True`` si un elemento está en un conjunto\n",
    "- ``not in``: devuelve valor booleano ``False`` si un elemento está en un conjunto\n",
    "- ``add``: añade elementos al conjunto (si no es un ``frozenset``)"
   ]
  },
  {
   "cell_type": "code",
   "execution_count": 34,
   "metadata": {},
   "outputs": [
    {
     "data": {
      "text/plain": [
       "True"
      ]
     },
     "execution_count": 34,
     "metadata": {},
     "output_type": "execute_result"
    }
   ],
   "source": [
    "'llaves' in bolsillo_derecho"
   ]
  },
  {
   "cell_type": "code",
   "execution_count": 35,
   "metadata": {},
   "outputs": [
    {
     "data": {
      "text/plain": [
       "False"
      ]
     },
     "execution_count": 35,
     "metadata": {},
     "output_type": "execute_result"
    }
   ],
   "source": [
    "'teléfono' not in bolsillo_izquierdo"
   ]
  },
  {
   "cell_type": "code",
   "execution_count": 36,
   "metadata": {},
   "outputs": [
    {
     "data": {
      "text/plain": [
       "{'moneda', 'teléfono'}"
      ]
     },
     "execution_count": 36,
     "metadata": {},
     "output_type": "execute_result"
    }
   ],
   "source": [
    "bolsillo_izquierdo.add('moneda')\n",
    "bolsillo_izquierdo"
   ]
  },
  {
   "attachments": {},
   "cell_type": "markdown",
   "metadata": {},
   "source": [
    "##### USO TÍPICO\n",
    "- **Eliminar duplicados** de una lista **o almacenar valores únicos** de una serie de elementos."
   ]
  },
  {
   "cell_type": "code",
   "execution_count": 37,
   "metadata": {},
   "outputs": [
    {
     "name": "stdout",
     "output_type": "stream",
     "text": [
      "[1, 2, 3, 4, 5]\n"
     ]
    }
   ],
   "source": [
    "lista_elementos = [1,2,3,4,5,4,4,3,3,2,2,1,1,5,5]\n",
    "lista_elementos_unicos = list(set(lista_elementos))\n",
    "print(lista_elementos_unicos)"
   ]
  },
  {
   "attachments": {},
   "cell_type": "markdown",
   "metadata": {},
   "source": [
    "#### OPERACIONES ENTRE CONJUNTOS\n",
    "Estas operaciones devuelven un nuevo conjunto.\n",
    "- Diferencia (``a - b``)\n",
    "- Unión (``a | b``)\n",
    "- Intersección (``a & b``)\n",
    "- Diferencia simétrica (``a ^b``): elementos en ``a`` o en ``b``, pero no en ambos)"
   ]
  },
  {
   "cell_type": "code",
   "execution_count": 38,
   "metadata": {},
   "outputs": [
    {
     "name": "stdout",
     "output_type": "stream",
     "text": [
      "{'cartera', 'llaves'}\n",
      "{'teléfono', 'cartera', 'llaves', 'moneda'}\n",
      "set()\n",
      "{'moneda', 'llaves', 'cartera', 'teléfono'}\n"
     ]
    }
   ],
   "source": [
    "print(bolsillo_derecho - bolsillo_izquierdo)\n",
    "print(bolsillo_derecho | bolsillo_izquierdo)\n",
    "print(bolsillo_derecho & bolsillo_izquierdo)\n",
    "print(bolsillo_derecho ^ bolsillo_izquierdo)"
   ]
  },
  {
   "attachments": {},
   "cell_type": "markdown",
   "metadata": {},
   "source": [
    "#### ``frozenset``\n",
    "- Son conjuntons **inmutables**"
   ]
  },
  {
   "cell_type": "code",
   "execution_count": 39,
   "metadata": {},
   "outputs": [
    {
     "name": "stdout",
     "output_type": "stream",
     "text": [
      "{'ambar', 'ambar, pero me da tiempo', 'rojo', 'verde'}\n"
     ]
    },
    {
     "ename": "AttributeError",
     "evalue": "'frozenset' object has no attribute 'add'",
     "output_type": "error",
     "traceback": [
      "\u001b[1;31m---------------------------------------------------------------------------\u001b[0m",
      "\u001b[1;31mAttributeError\u001b[0m                            Traceback (most recent call last)",
      "Cell \u001b[1;32mIn[39], line 5\u001b[0m\n\u001b[0;32m      3\u001b[0m \u001b[39mprint\u001b[39m(valid)\n\u001b[0;32m      4\u001b[0m valid_frozen \u001b[39m=\u001b[39m \u001b[39mfrozenset\u001b[39m((\u001b[39m'\u001b[39m\u001b[39mrojo\u001b[39m\u001b[39m'\u001b[39m, \u001b[39m'\u001b[39m\u001b[39mambar\u001b[39m\u001b[39m'\u001b[39m, \u001b[39m'\u001b[39m\u001b[39mverde\u001b[39m\u001b[39m'\u001b[39m))\n\u001b[1;32m----> 5\u001b[0m valid_frozen\u001b[39m.\u001b[39;49madd(\u001b[39m'\u001b[39m\u001b[39mambar, pero me da tiempo\u001b[39m\u001b[39m'\u001b[39m)\n",
      "\u001b[1;31mAttributeError\u001b[0m: 'frozenset' object has no attribute 'add'"
     ]
    }
   ],
   "source": [
    "valid = set(('rojo', 'ambar', 'verde'))\n",
    "valid.add('ambar, pero me da tiempo')\n",
    "print(valid)\n",
    "valid_frozen = frozenset(('rojo', 'ambar', 'verde'))\n",
    "valid_frozen.add('ambar, pero me da tiempo')"
   ]
  }
 ],
 "metadata": {
  "kernelspec": {
   "display_name": "base",
   "language": "python",
   "name": "python3"
  },
  "language_info": {
   "codemirror_mode": {
    "name": "ipython",
    "version": 3
   },
   "file_extension": ".py",
   "mimetype": "text/x-python",
   "name": "python",
   "nbconvert_exporter": "python",
   "pygments_lexer": "ipython3",
   "version": "3.11.2"
  },
  "orig_nbformat": 4
 },
 "nbformat": 4,
 "nbformat_minor": 2
}
