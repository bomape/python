{
 "cells": [
  {
   "attachments": {},
   "cell_type": "markdown",
   "metadata": {},
   "source": [
    "#### ATRIBTUO ESPECIAL: **__ slots __**\n",
    "- Surgen como alternativa a los diccionarios **objeto**.``__dict__`` cuando se tienen pocos atributos para almacenar y muchas instancias (objetos).\n",
    "- Se especifica ``__slots__`` con una secuencia de atributos que existen para cada instancia de la clase\n",
    "- Esto hará que las instancias de la clase tenga sólo el espacio necesario para las variables especificadas\n",
    "- Ejemplo de aplicación: las coordenadas, solo tienen dos atributos **x** e **y**, pero multitud de puntos (que serían los objetos o instancias)"
   ]
  },
  {
   "cell_type": "code",
   "execution_count": 2,
   "metadata": {},
   "outputs": [],
   "source": [
    "class Point2D():\n",
    "    __slots__ = ('x', 'y')\n",
    "    def __init__(self, x, y):\n",
    "        self.x, self.y = x, y"
   ]
  },
  {
   "cell_type": "code",
   "execution_count": 3,
   "metadata": {},
   "outputs": [
    {
     "name": "stdout",
     "output_type": "stream",
     "text": [
      "punto_A <__main__.Point2D object at 0x000001AAB025DB40>\n",
      "x: 0.5\n",
      "y: 0.75\n"
     ]
    }
   ],
   "source": [
    "punto_A = Point2D(0.5, 0.75)\n",
    "print('punto_A', punto_A)\n",
    "print('x:', punto_A.x)\n",
    "print('y:', punto_A.y)"
   ]
  },
  {
   "attachments": {},
   "cell_type": "markdown",
   "metadata": {},
   "source": [
    "- No se creará el diccionario interno del objeto ``.__dict__``"
   ]
  },
  {
   "cell_type": "code",
   "execution_count": 4,
   "metadata": {},
   "outputs": [
    {
     "ename": "AttributeError",
     "evalue": "'Point2D' object has no attribute '__dict__'",
     "output_type": "error",
     "traceback": [
      "\u001b[1;31m---------------------------------------------------------------------------\u001b[0m",
      "\u001b[1;31mAttributeError\u001b[0m                            Traceback (most recent call last)",
      "Cell \u001b[1;32mIn[4], line 1\u001b[0m\n\u001b[1;32m----> 1\u001b[0m punto_A\u001b[39m.\u001b[39;49m\u001b[39m__dict__\u001b[39;49m\n",
      "\u001b[1;31mAttributeError\u001b[0m: 'Point2D' object has no attribute '__dict__'"
     ]
    }
   ],
   "source": [
    "punto_A.__dict__"
   ]
  },
  {
   "attachments": {},
   "cell_type": "markdown",
   "metadata": {},
   "source": [
    "- y **no se podrán añadir nuevos atributos**"
   ]
  },
  {
   "cell_type": "code",
   "execution_count": 5,
   "metadata": {},
   "outputs": [
    {
     "ename": "AttributeError",
     "evalue": "'Point2D' object has no attribute 'z'",
     "output_type": "error",
     "traceback": [
      "\u001b[1;31m---------------------------------------------------------------------------\u001b[0m",
      "\u001b[1;31mAttributeError\u001b[0m                            Traceback (most recent call last)",
      "Cell \u001b[1;32mIn[5], line 1\u001b[0m\n\u001b[1;32m----> 1\u001b[0m punto_A\u001b[39m.\u001b[39;49mz \u001b[39m=\u001b[39m \u001b[39m'\u001b[39m\u001b[39mheight\u001b[39m\u001b[39m'\u001b[39m\n",
      "\u001b[1;31mAttributeError\u001b[0m: 'Point2D' object has no attribute 'z'"
     ]
    }
   ],
   "source": [
    "punto_A.z = 'height'"
   ]
  },
  {
   "attachments": {},
   "cell_type": "markdown",
   "metadata": {},
   "source": [
    "- (si no tuviera el ``__slots__`` sí dejaría)"
   ]
  },
  {
   "cell_type": "code",
   "execution_count": 6,
   "metadata": {},
   "outputs": [
    {
     "data": {
      "text/plain": [
       "{'x': 0.5, 'y': 0.75, 'z': 'height'}"
      ]
     },
     "execution_count": 6,
     "metadata": {},
     "output_type": "execute_result"
    }
   ],
   "source": [
    "class Point2D():\n",
    "    # __slots__ = ('x', 'y')\n",
    "    def __init__(self, x, y):\n",
    "        self.x, self.y = x, y\n",
    "\n",
    "punto_A = Point2D(0.5, 0.75)\n",
    "punto_A.z = 'height'\n",
    "punto_A.__dict__"
   ]
  }
 ],
 "metadata": {
  "kernelspec": {
   "display_name": "base",
   "language": "python",
   "name": "python3"
  },
  "language_info": {
   "codemirror_mode": {
    "name": "ipython",
    "version": 3
   },
   "file_extension": ".py",
   "mimetype": "text/x-python",
   "name": "python",
   "nbconvert_exporter": "python",
   "pygments_lexer": "ipython3",
   "version": "3.11.2"
  },
  "orig_nbformat": 4
 },
 "nbformat": 4,
 "nbformat_minor": 2
}
