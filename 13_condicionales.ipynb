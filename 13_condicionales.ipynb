{
 "cells": [
  {
   "attachments": {},
   "cell_type": "markdown",
   "metadata": {},
   "source": [
    "### CONDICIONALES\n",
    "- Concepto\n",
    "- Operador ternario\n",
    "- ``Match``\n",
    "- ``pass``"
   ]
  },
  {
   "attachments": {},
   "cell_type": "markdown",
   "metadata": {},
   "source": [
    "#### Concepto\n",
    "- Permiten determinar cuándo realizar una acción u otra definidas secuencialmente\n",
    "- Palabras reservadas:\n",
    "    - ``if``: precede a una condicion. Si esta se cumple (True), ejecuta su código anidado\n",
    "    - ``elif``: precede a otra condicion alternativa. Debe existir antes una condición ``if``.\n",
    "    - ``else``: ejecuta su código correspondiente si ninguna condicion(es) anterior se cumple."
   ]
  },
  {
   "attachments": {},
   "cell_type": "markdown",
   "metadata": {},
   "source": [
    "#### Operador ternario\n",
    "- Permite escribir un condicional if-else en una única línea."
   ]
  },
  {
   "cell_type": "code",
   "execution_count": 3,
   "metadata": {},
   "outputs": [
    {
     "name": "stdout",
     "output_type": "stream",
     "text": [
      "Es feo\n"
     ]
    }
   ],
   "source": [
    "me_gusta = False\n",
    "opinion = \"Es bonito\" if me_gusta == True else \"Es feo\"\n",
    "print(opinion)"
   ]
  },
  {
   "attachments": {},
   "cell_type": "markdown",
   "metadata": {},
   "source": [
    "La parte del código ``== True`` se puede omitir, y de hecho se suele hacer por legibilidad, ya que toda condición que sigue a un ``if`` o ``elif`` debe ser un valor booleano (True si se cumple, o False si no)"
   ]
  },
  {
   "cell_type": "code",
   "execution_count": 4,
   "metadata": {},
   "outputs": [
    {
     "name": "stdout",
     "output_type": "stream",
     "text": [
      "Es feo\n"
     ]
    }
   ],
   "source": [
    "me_gusta = False\n",
    "opinion = \"Es bonito\" if me_gusta else \"Es feo\"\n",
    "print(opinion)"
   ]
  },
  {
   "attachments": {},
   "cell_type": "markdown",
   "metadata": {},
   "source": [
    "En muchos casos, basta con poner el operador ``or``, el cual permite un valor alternativo por si la variable es ``False`` o ``None``"
   ]
  },
  {
   "cell_type": "code",
   "execution_count": 12,
   "metadata": {},
   "outputs": [
    {
     "name": "stdout",
     "output_type": "stream",
     "text": [
      "Es feo\n"
     ]
    }
   ],
   "source": [
    "opinion = me_gusta or \"Es feo\"\n",
    "print(opinion)"
   ]
  },
  {
   "cell_type": "code",
   "execution_count": 13,
   "metadata": {},
   "outputs": [
    {
     "name": "stdout",
     "output_type": "stream",
     "text": [
      "Edad\n"
     ]
    }
   ],
   "source": [
    "variable = None\n",
    "variable = variable or \"Edad\"\n",
    "print(variable)"
   ]
  },
  {
   "cell_type": "code",
   "execution_count": 14,
   "metadata": {},
   "outputs": [
    {
     "name": "stdout",
     "output_type": "stream",
     "text": [
      "15\n"
     ]
    }
   ],
   "source": [
    "numero = 15\n",
    "edad = numero or 17\n",
    "print(edad)"
   ]
  },
  {
   "attachments": {},
   "cell_type": "markdown",
   "metadata": {},
   "source": [
    "#### **``Match``**\n",
    "- Se ejecuta el primer bloque ``case`` cuya condición se resuelve como ``True``\n",
    "- En caso de que no haya ninguna coincidencia se ejecuta el bloque ``_``\n",
    "- Equivale a varias sentencias if-elif-else"
   ]
  },
  {
   "cell_type": "code",
   "execution_count": 22,
   "metadata": {},
   "outputs": [
    {
     "name": "stdout",
     "output_type": "stream",
     "text": [
      "¿Quién eres?\n"
     ]
    }
   ],
   "source": [
    "nombre = 'Voldemort'\n",
    "\n",
    "match nombre: \n",
    "    case 'Harry' | 'Hermione' |'Ron':\n",
    "        print('Gryffindor')\n",
    "    case 'Draco':\n",
    "        print('Slytherin')\n",
    "    case _:\n",
    "        print('¿Quién eres?')"
   ]
  },
  {
   "attachments": {},
   "cell_type": "markdown",
   "metadata": {},
   "source": [
    "#### **``pass``**\n",
    "- Útil para sentencias o funciones necesarias que están por cumplimentarse\n",
    "- Permite evitar que python destaque errores de código incompleto\n",
    "- Una buena práctica es utilizar una excepcion ``NotImplementedError`` para evidenciar que la sentencia o funcion no está completamente cumplimentada"
   ]
  },
  {
   "cell_type": "code",
   "execution_count": 23,
   "metadata": {},
   "outputs": [],
   "source": [
    "if nombre:\n",
    "    # Aún no sé que quiero hacer con esta condición, pero debe estar en mi código\n",
    "    pass"
   ]
  }
 ],
 "metadata": {
  "kernelspec": {
   "display_name": "Python 3",
   "language": "python",
   "name": "python3"
  },
  "language_info": {
   "codemirror_mode": {
    "name": "ipython",
    "version": 3
   },
   "file_extension": ".py",
   "mimetype": "text/x-python",
   "name": "python",
   "nbconvert_exporter": "python",
   "pygments_lexer": "ipython3",
   "version": "3.10.9"
  },
  "orig_nbformat": 4,
  "vscode": {
   "interpreter": {
    "hash": "f2602f62725692c171be4634a254054368e54a417e74eada098f42e0fd72e7fd"
   }
  }
 },
 "nbformat": 4,
 "nbformat_minor": 2
}
