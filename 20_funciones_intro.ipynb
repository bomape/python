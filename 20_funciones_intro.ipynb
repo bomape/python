{
 "cells": [
  {
   "attachments": {},
   "cell_type": "markdown",
   "metadata": {},
   "source": [
    "### FUNCIONES\n",
    "- Definición y uso de **funciones**\n",
    "- Definición y uso de **argumentos**\n",
    "    - Datos básicos y compuestos en una función\n",
    "    - Argumentos opcionales, obligatorios y *keywords*\n",
    "    - Tuplas de argumentos\n",
    "- Resultado de una función (``return``)\n",
    "- Ámbitos en funciones\n",
    "    - Funciones anidadas\n",
    "    - ``nonlocal`` y ``global``\n",
    "- *Ejercicio con input*"
   ]
  },
  {
   "attachments": {},
   "cell_type": "markdown",
   "metadata": {},
   "source": [
    "#### Definición y uso de **funciones**\n",
    "- Permiten trabajar el código de forma **modular** (dividido en pequeños bloques (módulo) encargado de hacer una tarea específica) y reutilizable (evitar tener que repetir código)\n",
    "- Suelen definirse en base a unos parámetros entrada.\n",
    "- Ejemplos de funciones en python:\n",
    "    - ``print``: imprime mensajes en consola\n",
    "    - ``input``: permite introducir datos por consola, devolviendo el string introducido. Cuando se trabaja con esta función, es conveniente crear excepciones con el fin de anticiparse a posible errores ocurridos por el valor introducido por el usuario y que éste sepa por qué recibe un error."
   ]
  },
  {
   "cell_type": "code",
   "execution_count": 22,
   "metadata": {},
   "outputs": [
    {
     "name": "stdout",
     "output_type": "stream",
     "text": [
      "Hola Mundo!\n"
     ]
    }
   ],
   "source": [
    "# Definicion de la funcion\n",
    "def saludar():\n",
    "    \"\"\" Funcion que imprime un saludo por pantalla \"\"\"\n",
    "    print('Hola Mundo!')\n",
    "\n",
    "# Llamada a la funcion\n",
    "saludar()"
   ]
  },
  {
   "attachments": {},
   "cell_type": "markdown",
   "metadata": {},
   "source": [
    "#### Definición y uso de **argumentos**\n",
    "- Los argumentos son los datos de entrada que puede recibir una función.\n",
    "- No confundir con parámetro: el parámetro es la nomenclatura que recibe dicho valor en la definición de la función, y el argumento es el valor/variable empleado en la llamada de la función."
   ]
  },
  {
   "cell_type": "code",
   "execution_count": 23,
   "metadata": {},
   "outputs": [
    {
     "name": "stdout",
     "output_type": "stream",
     "text": [
      "Hola Mundo!\n"
     ]
    }
   ],
   "source": [
    "# 'nombre' es el parámetro\n",
    "def saludar(nombre):\n",
    "    \"\"\" Funcion que imprime un saludo por pantalla \"\"\"\n",
    "    print(f'Hola {nombre.title()}!')\n",
    "\n",
    "# 'audiencia' es el argumento\n",
    "audiencia = 'Mundo'\n",
    "saludar(audiencia)"
   ]
  },
  {
   "attachments": {},
   "cell_type": "markdown",
   "metadata": {},
   "source": [
    "##### Datos básicos y compuestos en una función\n",
    "- Los parámetros con tipos de datos **básicos** (números, strings, booleanos o None) se pasan por **copia**, es decir, **no son modificables dentro de la función**."
   ]
  },
  {
   "cell_type": "code",
   "execution_count": 24,
   "metadata": {},
   "outputs": [
    {
     "name": "stdout",
     "output_type": "stream",
     "text": [
      "Antes de la funcion: \tx=2\n",
      "Dentro de la funcion: \tx=5\n",
      "Después de la funcion: \tx=2\n"
     ]
    }
   ],
   "source": [
    "def modificar_basicos(dato_basico):\n",
    "    dato_basico += 3\n",
    "    print(f'Dentro de la funcion: \\tx={dato_basico}')\n",
    "\n",
    "x = 2\n",
    "print(f'Antes de la funcion: \\tx={x}')\n",
    "modificar_basicos(x)\n",
    "print(f'Después de la funcion: \\tx={x}')"
   ]
  },
  {
   "attachments": {},
   "cell_type": "markdown",
   "metadata": {},
   "source": [
    "- Los parámetros con tipos de datos **compuestos** (listas, diccionarios, conjuntos, etc.) se pasan por **referencia**, es decir, **sí son modificables dentro de la función**."
   ]
  },
  {
   "cell_type": "code",
   "execution_count": 25,
   "metadata": {},
   "outputs": [
    {
     "name": "stdout",
     "output_type": "stream",
     "text": [
      "Antes de la funcion: \tx=[1, 2, 3]\n",
      "Dentro de la funcion: \tx=[1, 2, 3, 4]\n",
      "Después de la funcion: \tx=[1, 2, 3, 4]\n"
     ]
    }
   ],
   "source": [
    "def modificar_compuestos(dato_compuesto):\n",
    "    dato_compuesto.append(4)\n",
    "    print(f'Dentro de la funcion: \\tx={dato_compuesto}')\n",
    "\n",
    "x = [1, 2, 3]\n",
    "print(f'Antes de la funcion: \\tx={x}')\n",
    "modificar_compuestos(x)\n",
    "print(f'Después de la funcion: \\tx={x}')"
   ]
  },
  {
   "attachments": {},
   "cell_type": "markdown",
   "metadata": {},
   "source": [
    "##### Argumentos opcionales, obligatorios y *keywords*\n",
    "- Los parámetros definidos en una función pueden hacerse con un valor por defecto, para así no tener que introducir su argumento en el momento de llamar a la función. De esta forma pasan a ser **opcionales** (se pueden introducir en la llamada a la función, pero no hacerlo utilizará el valor por defecto del parámetro.)\n",
    "- Los parámetros que no tengan valor por defecto (como los empleados antes) son **obligatorios** en su llamada a la función.\n",
    "- Si se quiere modificar el orden de los parámetros en el momento de invocar a la función se pueden emplear ***keywords***.\n",
    "- Es buena práctica usar *keywords* para evitar que los argumentos deban cumplir el posicionamiento de los parámetros en el momento de su definición."
   ]
  },
  {
   "cell_type": "code",
   "execution_count": 26,
   "metadata": {},
   "outputs": [
    {
     "name": "stdout",
     "output_type": "stream",
     "text": [
      "obligatorio declarar: Debe aparecer siempre\n",
      "opcionales: 60.0 y Ahora se llama Jose\n",
      "Gracias a las keyword, puedo invertir el orden en su invocación.\n"
     ]
    }
   ],
   "source": [
    "def diferenciar_parametros(param1, param2=60.0, param3='Ana'):\n",
    "    print(f'obligatorio declarar: {param1}')\n",
    "    print(f'opcionales: {param2} y {param3}')\n",
    "    print('Gracias a las keyword, puedo invertir el orden en su invocación.')\n",
    "\n",
    "diferenciar_parametros(param3='Ahora se llama Jose', param1='Debe aparecer siempre')"
   ]
  },
  {
   "attachments": {},
   "cell_type": "markdown",
   "metadata": {},
   "source": [
    "- Por convenio, tras un argumento con *keyword* no se pueden utilizar argumentos posicionales (es decir, sin *keyword*)"
   ]
  },
  {
   "cell_type": "code",
   "execution_count": 27,
   "metadata": {},
   "outputs": [
    {
     "ename": "SyntaxError",
     "evalue": "positional argument follows keyword argument (1763757631.py, line 1)",
     "output_type": "error",
     "traceback": [
      "\u001b[1;36m  Cell \u001b[1;32mIn[27], line 1\u001b[1;36m\u001b[0m\n\u001b[1;33m    diferenciar_parametros(param2=30, 'Ahora se llama Jose')\u001b[0m\n\u001b[1;37m                                                           ^\u001b[0m\n\u001b[1;31mSyntaxError\u001b[0m\u001b[1;31m:\u001b[0m positional argument follows keyword argument\n"
     ]
    }
   ],
   "source": [
    "diferenciar_parametros(param2=30, 'Ahora se llama Jose')"
   ]
  },
  {
   "attachments": {},
   "cell_type": "markdown",
   "metadata": {},
   "source": [
    "##### Tuplas de argumentos\n",
    "- Permiten trabajar con múltiples argumentos.\n",
    "- El parámetro de la tupla debe ser declarado al final siempre."
   ]
  },
  {
   "cell_type": "code",
   "execution_count": 28,
   "metadata": {},
   "outputs": [
    {
     "name": "stdout",
     "output_type": "stream",
     "text": [
      "Los valores de mi_tupla son:\n",
      "(15, 152, 8, 3, 185)\n",
      "Los valores de 15 son:\n",
      "152\n",
      "8\n",
      "3\n",
      "185\n"
     ]
    }
   ],
   "source": [
    "def trabajar_tuplas(param, *params):\n",
    "    print(f'Los valores de {param} son:')\n",
    "    for i in params:\n",
    "        print(i)\n",
    "\n",
    "nombre = 'mi_tupla'\n",
    "valores = (15,152,8,3,185)\n",
    "trabajar_tuplas(nombre, valores)\n",
    "\n",
    "trabajar_tuplas(15,152,8,3,185)\n",
    "# en este caso 15 es el argumento 'param' y la tupla son los valores restantes."
   ]
  },
  {
   "attachments": {},
   "cell_type": "markdown",
   "metadata": {},
   "source": [
    "#### Resultado de una función\n",
    "- Una función puede devolver varios resultados de cualquier tipo de dato (básico: int, float, str, bool... ; compuestos: list, set, dict...).\n",
    "- Los resultados se guardan fuera de la función.\n",
    "- Es necesario la palabra reservada ``return``."
   ]
  },
  {
   "cell_type": "code",
   "execution_count": 29,
   "metadata": {},
   "outputs": [
    {
     "name": "stdout",
     "output_type": "stream",
     "text": [
      "Resultado 1: (<class 'list'>, ['Pedro', 75.8, True])\n",
      "Resultado 2: (<class 'tuple'>, ('Pedro', 75.8, True))\n"
     ]
    }
   ],
   "source": [
    "def crear_lista(*params):\n",
    "    lista = []\n",
    "    for elem in params:\n",
    "        lista.append(elem)\n",
    "    return lista, params\n",
    "\n",
    "lista, tupla = crear_lista('Pedro', 75.8, True)\n",
    "print(f'Resultado 1: {type(lista), lista}')\n",
    "print(f'Resultado 2: {type(tupla), tupla}')"
   ]
  },
  {
   "attachments": {},
   "cell_type": "markdown",
   "metadata": {},
   "source": [
    "#### Ámbitos en funciones\n",
    "- Las variables declaradas en una función existen **únicamente dentro** del ámbito de la función.\n",
    "- Variables declaradas **fuera** del ámbito de una función puede ser utilizadas por esta función."
   ]
  },
  {
   "cell_type": "code",
   "execution_count": 30,
   "metadata": {},
   "outputs": [
    {
     "name": "stdout",
     "output_type": "stream",
     "text": [
      "13\n"
     ]
    },
    {
     "ename": "NameError",
     "evalue": "name 'var3' is not defined",
     "output_type": "error",
     "traceback": [
      "\u001b[1;31m---------------------------------------------------------------------------\u001b[0m",
      "\u001b[1;31mNameError\u001b[0m                                 Traceback (most recent call last)",
      "Cell \u001b[1;32mIn[30], line 8\u001b[0m\n\u001b[0;32m      5\u001b[0m     \u001b[39mreturn\u001b[39;00m var3\n\u001b[0;32m      7\u001b[0m \u001b[39mprint\u001b[39m(funcion(\u001b[39m2\u001b[39m))\n\u001b[1;32m----> 8\u001b[0m \u001b[39mprint\u001b[39m(var3)\n",
      "\u001b[1;31mNameError\u001b[0m: name 'var3' is not defined"
     ]
    }
   ],
   "source": [
    "var1 = 10\n",
    "def funcion(param):\n",
    "    var2 = param + 1\n",
    "    var3 = var1 + var2\n",
    "    return var3\n",
    "\n",
    "print(funcion(2))\n",
    "print(var3)"
   ]
  },
  {
   "attachments": {},
   "cell_type": "markdown",
   "metadata": {},
   "source": [
    "##### Funciones anidadas\n",
    "- Se denominan así a las funciones definidas dentro de otra función.\n",
    "- En el siguiente ejemplo, la variable ``x`` no es la misma variable en ambas funciones, aunque compartan el nombre."
   ]
  },
  {
   "cell_type": "code",
   "execution_count": 31,
   "metadata": {},
   "outputs": [
    {
     "data": {
      "text/plain": [
       "'pepe'"
      ]
     },
     "execution_count": 31,
     "metadata": {},
     "output_type": "execute_result"
    }
   ],
   "source": [
    "def mifunc1():\n",
    "    x = 'pepe'\n",
    "    def mifunc2():\n",
    "        x='hola'\n",
    "    mifunc2()\n",
    "    return x\n",
    "mifunc1()"
   ]
  },
  {
   "attachments": {},
   "cell_type": "markdown",
   "metadata": {},
   "source": [
    "- Para cambiar el ámbito de ``x`` se usan ``nonlocal`` y ``global``. Lo deseable es evitar estas metodologías, y declarar las variables que vayan a ser de ámbito general fuera de cualquier función."
   ]
  },
  {
   "attachments": {},
   "cell_type": "markdown",
   "metadata": {},
   "source": [
    "##### ``nonlocal``\n",
    "- Se utiliza para trabajar con variables **dentro** de funciones anidadas, donde la variable **no debe pertenecer a la función interna**.\n",
    "- De esta forma se notifica que la variable ``x`` no corresponde al ámbito local, es decir al de ``mifunc2``, sino que corresponde al ámbito superior (``mifunc1``)"
   ]
  },
  {
   "cell_type": "code",
   "execution_count": 32,
   "metadata": {},
   "outputs": [
    {
     "data": {
      "text/plain": [
       "'hola'"
      ]
     },
     "execution_count": 32,
     "metadata": {},
     "output_type": "execute_result"
    }
   ],
   "source": [
    "def mifunc1():\n",
    "    x = 'pepe'\n",
    "    def mifunc2():\n",
    "        nonlocal x \n",
    "        x='hola'\n",
    "    mifunc2()\n",
    "    return x\n",
    "mifunc1()"
   ]
  },
  {
   "attachments": {},
   "cell_type": "markdown",
   "metadata": {},
   "source": [
    "##### ``global``\n",
    "- Se utiliza para crear variables de ámbito global, general, desde un ámbito no global, por ejemplo, una función.\n",
    "- Con esto, se indica que la variable ``x`` creada dentro de la función puede ser accesible desde fuera de la misma.\n",
    "- No se recomienda su uso, y es aconsejable definir ``x`` fuera del ámbito de la función."
   ]
  },
  {
   "cell_type": "code",
   "execution_count": 20,
   "metadata": {},
   "outputs": [
    {
     "ename": "NameError",
     "evalue": "name 'z' is not defined",
     "output_type": "error",
     "traceback": [
      "\u001b[1;31m---------------------------------------------------------------------------\u001b[0m",
      "\u001b[1;31mNameError\u001b[0m                                 Traceback (most recent call last)",
      "Cell \u001b[1;32mIn[20], line 4\u001b[0m\n\u001b[0;32m      2\u001b[0m     \u001b[39mglobal\u001b[39;00m z\n\u001b[0;32m      3\u001b[0m     z \u001b[39m=\u001b[39m \u001b[39m'\u001b[39m\u001b[39mhola\u001b[39m\u001b[39m'\u001b[39m\n\u001b[1;32m----> 4\u001b[0m \u001b[39mprint\u001b[39m(z)\n",
      "\u001b[1;31mNameError\u001b[0m: name 'z' is not defined"
     ]
    }
   ],
   "source": [
    "def mifuncion():\n",
    "    global z\n",
    "    z = 'hola'\n",
    "print(z)"
   ]
  },
  {
   "cell_type": "code",
   "execution_count": 21,
   "metadata": {},
   "outputs": [
    {
     "name": "stdout",
     "output_type": "stream",
     "text": [
      "hola\n"
     ]
    }
   ],
   "source": [
    "mifuncion()\n",
    "# ahora puedo llamar a 'x', ya existe en el ámbito global \n",
    "print(z)"
   ]
  },
  {
   "attachments": {},
   "cell_type": "markdown",
   "metadata": {},
   "source": [
    "#### *Ejercicio con input*\n",
    "- Identificar si alguien debe acudir a votar según su Comunidad Autónoma y edad."
   ]
  },
  {
   "cell_type": "code",
   "execution_count": 1,
   "metadata": {},
   "outputs": [
    {
     "name": "stdout",
     "output_type": "stream",
     "text": [
      "Nombre: Pedro\n",
      "Es mayor de edad\n",
      "Te toca ir a votar.\n"
     ]
    }
   ],
   "source": [
    "elecciones = ['Madrid', 'Extremadura']\n",
    "\n",
    "def comprobar_edad(edad):\n",
    "    if edad >= 18:\n",
    "        print(\"Es mayor de edad\")\n",
    "        comunidad = input(\"¿En qué comunidad vive? \")\n",
    "        if comunidad in elecciones:\n",
    "            print(\"Te toca ir a votar.\")\n",
    "        else:\n",
    "            print(\"No tienes que votar en un tiempo.\")\n",
    "    elif edad >= 14:\n",
    "        print(\"Es adolescente\")\n",
    "    elif edad >= 3:\n",
    "        print(\"Es un infante\")\n",
    "    elif edad >= 0:\n",
    "        print(\"Es un bebé\")\n",
    "    else:\n",
    "        print(\"Edad no válida. Nadie puede tener una edad negativa.\")\n",
    "\n",
    "def extraer_edad():\n",
    "    try:\n",
    "        edad = int(input(\"¿Qué edad tiene la persona? \"))\n",
    "    except ValueError:\n",
    "        # es buena y necesaria practica especificar que tipo de error trata el 'except'\n",
    "        # si no se indica, hace el 'except' igualmente, pero de cara al programador, se\n",
    "        # desconocería qué error esta tratando el 'except'\n",
    "        print(\"Valor no válido para edad\")\n",
    "        edad = -1\n",
    "    except:\n",
    "        print('¿Por qué no ha ocurrido el try? Desconozco el error que ha permitido la ejecucion\\\n",
    "              de este except, por ello no puedo mostrar un mensaje por pantalla que permita informa\\\n",
    "              al usuario cómo solucionar este error.')\n",
    "    return edad\n",
    "\n",
    "\n",
    "def main():\n",
    "    nombre = input(\"¿Cómo te llamas? \")\n",
    "    # Si en el momento que aparece el input no se introduce un valor, python lo rescata como None\n",
    "    # y por tanto nombre pasa a ser 'Desconocido'.\n",
    "    nombre = nombre or \"Desconocido\"\n",
    "    edad = extraer_edad()\n",
    "    print(\"Nombre:\", nombre)\n",
    "    comprobar_edad(edad=edad)\n",
    "\n",
    "main()"
   ]
  }
 ],
 "metadata": {
  "kernelspec": {
   "display_name": "Python 3",
   "language": "python",
   "name": "python3"
  },
  "language_info": {
   "codemirror_mode": {
    "name": "ipython",
    "version": 3
   },
   "file_extension": ".py",
   "mimetype": "text/x-python",
   "name": "python",
   "nbconvert_exporter": "python",
   "pygments_lexer": "ipython3",
   "version": "3.11.2"
  },
  "orig_nbformat": 4,
  "vscode": {
   "interpreter": {
    "hash": "f2602f62725692c171be4634a254054368e54a417e74eada098f42e0fd72e7fd"
   }
  }
 },
 "nbformat": 4,
 "nbformat_minor": 2
}
