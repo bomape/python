{
 "cells": [
  {
   "attachments": {},
   "cell_type": "markdown",
   "metadata": {},
   "source": [
    "### BUCLES (LOOPS)\n",
    "- Concepto\n",
    "- ``while``\n",
    "- ``for`` y el uso de ``range``\n",
    "- Rotura de bucles: ``break`` y ``continue``\n",
    "- Sentencia ``else`` en un bucle ``for``\n",
    "- ``enumerate``\n",
    "- ``zip``"
   ]
  },
  {
   "attachments": {},
   "cell_type": "markdown",
   "metadata": {},
   "source": [
    "#### Concepto\n",
    "- Permiten ejecutar grupos de sentencias varias veces\n",
    "- Existen dos formas:\n",
    "    - ``while``: ejecuta un bloque **mientras la condición se cumpla**.\n",
    "    - ``for``: realiza una iteración sobre una colección de elementos."
   ]
  },
  {
   "attachments": {},
   "cell_type": "markdown",
   "metadata": {},
   "source": [
    "#### **``while``**\n",
    "- Requiere que la condición deje de cumplirse en algún momento para finalizar el bucle."
   ]
  },
  {
   "cell_type": "code",
   "execution_count": 23,
   "metadata": {},
   "outputs": [
    {
     "name": "stdout",
     "output_type": "stream",
     "text": [
      "esto se repite por i vale 0\n",
      "esto se repite por i vale 1\n",
      "esto se repite por i vale 2\n",
      "esto se repite por i vale 3\n",
      "esto se repite por i vale 4\n",
      "esto se repite por i vale 5\n"
     ]
    }
   ],
   "source": [
    "i = 0\n",
    "while i <= 5:\n",
    "    print(f'esto se repite por i vale {i}')\n",
    "    i += 1 # IMPORTANTISIMO HACER ESTO para que el bucle puedar terminar"
   ]
  },
  {
   "attachments": {},
   "cell_type": "markdown",
   "metadata": {},
   "source": [
    "#### **``for``**\n",
    "- Útil para recorrer iterables\n",
    "- No necesitan condición de parada del bucle, ya que el propio iterable lo limita"
   ]
  },
  {
   "cell_type": "code",
   "execution_count": 24,
   "metadata": {},
   "outputs": [
    {
     "name": "stdout",
     "output_type": "stream",
     "text": [
      "Beee\n",
      "Miau\n",
      "Guau\n"
     ]
    }
   ],
   "source": [
    "animal_sounds = ['Beee', 'Miau', 'Guau']\n",
    "for sound in animal_sounds:\n",
    "    print(sound)"
   ]
  },
  {
   "attachments": {},
   "cell_type": "markdown",
   "metadata": {},
   "source": [
    "##### **``range``**\n",
    "- Muy útil con bucles ``for`` ya que genera secuencias con números enteros\n",
    "- Su forma general es ``range(a,b,c)`` donde:\n",
    "    - si solo se especifica ``a``, la secuencia va desde ``0`` hasta ``a-1``\n",
    "    - si se especifican ``a`` y ``b``, la secuencia va desde ``a`` hasta ``b-1``.\n",
    "    - si se especifican ``a``, ``b`` y ``c``, realiza lo anterior en saltos de ``c``."
   ]
  },
  {
   "cell_type": "code",
   "execution_count": 25,
   "metadata": {},
   "outputs": [
    {
     "name": "stdout",
     "output_type": "stream",
     "text": [
      "lista1 [0, 1, 2, 3, 4, 5, 6, 7, 8, 9]\n",
      "lista2 [1, 2, 3, 4, 5, 6, 7, 8, 9]\n",
      "lista3 [1, 4, 7]\n"
     ]
    }
   ],
   "source": [
    "lista1 = list(range(10))\n",
    "print('lista1', lista1)\n",
    "lista2 = list(range(1, 10))\n",
    "print('lista2',lista2)\n",
    "lista3 = list(range(1, 10, 3))\n",
    "print('lista3', lista3)"
   ]
  },
  {
   "attachments": {},
   "cell_type": "markdown",
   "metadata": {},
   "source": [
    "#### Rotura de bucles: ``break`` y ``continue``\n",
    "- ``break``: sale del bucle\n",
    "- ``continue``: pasa a la siguiente iteración del bucle"
   ]
  },
  {
   "cell_type": "code",
   "execution_count": 26,
   "metadata": {},
   "outputs": [
    {
     "name": "stdout",
     "output_type": "stream",
     "text": [
      "0\n",
      "1\n",
      "2\n",
      "3\n",
      "4\n"
     ]
    }
   ],
   "source": [
    "for i in range(10):\n",
    "    print(i)\n",
    "    if i == 4:\n",
    "        break"
   ]
  },
  {
   "attachments": {},
   "cell_type": "markdown",
   "metadata": {},
   "source": [
    "``break`` permite finalizar el bucle una vez que la condición es cumplida (cuando ``i`` ya ha llegado al valor de ``4``, el bucle finaliza)"
   ]
  },
  {
   "cell_type": "code",
   "execution_count": 27,
   "metadata": {},
   "outputs": [
    {
     "name": "stdout",
     "output_type": "stream",
     "text": [
      "4\n",
      "5\n",
      "6\n",
      "7\n",
      "8\n",
      "9\n"
     ]
    }
   ],
   "source": [
    "for i in range(10):\n",
    "    if i < 4:\n",
    "        continue\n",
    "    print(i)"
   ]
  },
  {
   "attachments": {},
   "cell_type": "markdown",
   "metadata": {},
   "source": [
    "``continue`` hace que el bucle 'salte' a la siguiente iteración (es decir, continúe) en función de la condición deseada. En este caso, para los valores que cumplan ``i<4``, el bucle 'salta' y pasa al siguiente valor de ``i``. Cuando esta ``i`` deja de cumplir la condición (ya es >= 4), se ejecuta el código del bucle."
   ]
  },
  {
   "attachments": {},
   "cell_type": "markdown",
   "metadata": {},
   "source": [
    "#### Sentencia ``else`` en un bucle ``for``\n",
    "- Sirve para ejecutar un bloque solo si no se sale de un bulce con un ``break``."
   ]
  },
  {
   "cell_type": "code",
   "execution_count": 28,
   "metadata": {},
   "outputs": [
    {
     "name": "stdout",
     "output_type": "stream",
     "text": [
      "Item no encontrado\n"
     ]
    }
   ],
   "source": [
    "mochila = ['ordenador', 'bolígrafo', 'cuaderno', 'estuche']\n",
    "for item in mochila:\n",
    "    if 'llaves' in mochila:\n",
    "        break\n",
    "else:\n",
    "    print('Item no encontrado')"
   ]
  },
  {
   "attachments": {},
   "cell_type": "markdown",
   "metadata": {},
   "source": [
    "- Puede no necesitarse el ``else``"
   ]
  },
  {
   "cell_type": "code",
   "execution_count": 29,
   "metadata": {},
   "outputs": [
    {
     "name": "stdout",
     "output_type": "stream",
     "text": [
      "Item no encontrado\n"
     ]
    }
   ],
   "source": [
    "encontrado = False\n",
    "for item in mochila:\n",
    "    if 'llaves' in mochila:\n",
    "        encontrado = True\n",
    "        break\n",
    "if not encontrado:\n",
    "    print('Item no encontrado')"
   ]
  },
  {
   "attachments": {},
   "cell_type": "markdown",
   "metadata": {},
   "source": [
    "#### **``enumerate``**\n",
    "- Muy útil, ya que permite identificar la posición y el elemento de un iterable."
   ]
  },
  {
   "cell_type": "code",
   "execution_count": 30,
   "metadata": {},
   "outputs": [
    {
     "name": "stdout",
     "output_type": "stream",
     "text": [
      "El ordenador está guardado en el \"bolsillo\" 0\n",
      "El bolígrafo está guardado en el \"bolsillo\" 1\n",
      "El cuaderno está guardado en el \"bolsillo\" 2\n",
      "El estuche está guardado en el \"bolsillo\" 3\n"
     ]
    }
   ],
   "source": [
    "for i, item in enumerate(mochila):\n",
    "    print(f'El {item} está guardado en el \"bolsillo\" {i}')"
   ]
  },
  {
   "attachments": {},
   "cell_type": "markdown",
   "metadata": {},
   "source": [
    "- Su ejecución se puede hacer con ``range``, aunque sea menos legible.\n",
    "- Recordar que ``range`` necesita un número entero, de ahí que tenga que intervenir ``len``."
   ]
  },
  {
   "cell_type": "code",
   "execution_count": 31,
   "metadata": {},
   "outputs": [
    {
     "name": "stdout",
     "output_type": "stream",
     "text": [
      "El ordenador está guardado en el \"bolsillo\" 0\n",
      "El bolígrafo está guardado en el \"bolsillo\" 1\n",
      "El cuaderno está guardado en el \"bolsillo\" 2\n",
      "El estuche está guardado en el \"bolsillo\" 3\n"
     ]
    }
   ],
   "source": [
    "for i in range(len(mochila)):\n",
    "    print(f'El {mochila[i]} está guardado en el \"bolsillo\" {i}')"
   ]
  },
  {
   "attachments": {},
   "cell_type": "markdown",
   "metadata": {},
   "source": [
    "#### **``zip``**\n",
    "- Itera conjuntos **a la vez**"
   ]
  },
  {
   "cell_type": "code",
   "execution_count": 32,
   "metadata": {},
   "outputs": [
    {
     "name": "stdout",
     "output_type": "stream",
     "text": [
      "What's your name? -It's Lancelot\n",
      "What's your quest? -It's the Holy Grail\n",
      "What's your favorite color? -It's blue\n"
     ]
    }
   ],
   "source": [
    "questions = ['name', 'quest', 'favorite color']\n",
    "answers = ['Lancelot', 'the Holy Grail', 'blue']\n",
    "for q,a in zip(questions, answers):\n",
    "    print(f\"What's your {q}? -It's {a}\")"
   ]
  }
 ],
 "metadata": {
  "kernelspec": {
   "display_name": "Python 3",
   "language": "python",
   "name": "python3"
  },
  "language_info": {
   "codemirror_mode": {
    "name": "ipython",
    "version": 3
   },
   "file_extension": ".py",
   "mimetype": "text/x-python",
   "name": "python",
   "nbconvert_exporter": "python",
   "pygments_lexer": "ipython3",
   "version": "3.10.9"
  },
  "orig_nbformat": 4,
  "vscode": {
   "interpreter": {
    "hash": "f2602f62725692c171be4634a254054368e54a417e74eada098f42e0fd72e7fd"
   }
  }
 },
 "nbformat": 4,
 "nbformat_minor": 2
}
