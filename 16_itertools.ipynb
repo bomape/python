{
 "cells": [
  {
   "attachments": {},
   "cell_type": "markdown",
   "metadata": {},
   "source": [
    "### ``itertools``\n",
    "- Concepto\n",
    "- ``chain``\n",
    "- ``cycle``\n",
    "- ``repeat``\n",
    "- ``zip_longest``\n",
    "- ``combinations``\n",
    "- **``permutations``**"
   ]
  },
  {
   "attachments": {},
   "cell_type": "markdown",
   "metadata": {},
   "source": [
    "#### Concepto\n",
    "- Biblioteca útil en el trabajo con colecciones.\n",
    "- Prácticamente todas sus funciones son **generadores**, es decir, no construyen en memoria los objetos resultado de sus iteraciones."
   ]
  },
  {
   "cell_type": "code",
   "execution_count": 28,
   "metadata": {},
   "outputs": [],
   "source": [
    "import itertools"
   ]
  },
  {
   "attachments": {},
   "cell_type": "markdown",
   "metadata": {},
   "source": [
    "#### **``chain(*iterable)``**\n",
    "- Recorre los valores de los iterables indicados."
   ]
  },
  {
   "cell_type": "code",
   "execution_count": 29,
   "metadata": {},
   "outputs": [
    {
     "name": "stdout",
     "output_type": "stream",
     "text": [
      "1\n",
      "2\n",
      "tres\n"
     ]
    }
   ],
   "source": [
    "for i in itertools.chain([1,2], ['tres']):\n",
    "    print(i)"
   ]
  },
  {
   "attachments": {},
   "cell_type": "markdown",
   "metadata": {},
   "source": [
    "#### **``cycle(*iterable)``**\n",
    "- Repite una y otra vez la misma secuencia.\n",
    "- Cuidado, hay que romper el bucle para que no sea infinito."
   ]
  },
  {
   "cell_type": "code",
   "execution_count": 30,
   "metadata": {},
   "outputs": [
    {
     "name": "stdout",
     "output_type": "stream",
     "text": [
      "0 uno\n",
      "1 dos\n",
      "2 uno\n",
      "3 dos\n",
      "4 uno\n",
      "5 dos\n",
      "6 uno\n",
      "7 dos\n",
      "8 uno\n",
      "9 dos\n",
      "10 uno\n"
     ]
    }
   ],
   "source": [
    "i = 0\n",
    "for value in itertools.cycle(['uno', 'dos']):\n",
    "    print(i, value)\n",
    "    i += 1\n",
    "    if i > 10:\n",
    "        break"
   ]
  },
  {
   "attachments": {},
   "cell_type": "markdown",
   "metadata": {},
   "source": [
    "#### **``repeat(e[, n])``**\n",
    "- Repite el elemento ``e`` las veces que indica ``n``.\n",
    "- Si no se especifica ``n``, repetirá el elemento indefinidamente."
   ]
  },
  {
   "cell_type": "code",
   "execution_count": 31,
   "metadata": {},
   "outputs": [
    {
     "name": "stdout",
     "output_type": "stream",
     "text": [
      "na na na na na na na na batman!\n"
     ]
    }
   ],
   "source": [
    "for i in itertools.repeat('na', 8):\n",
    "    print(i, end=' ')\n",
    "print('batman!')"
   ]
  },
  {
   "attachments": {},
   "cell_type": "markdown",
   "metadata": {},
   "source": [
    "#### ``zip_longest``\n",
    "- Actúa como ``zip`` pero recorriendo la lista más larga."
   ]
  },
  {
   "cell_type": "code",
   "execution_count": 32,
   "metadata": {},
   "outputs": [
    {
     "data": {
      "text/plain": [
       "[(1, 1), (2, 2), (3, 3), (4, None), (5, None)]"
      ]
     },
     "execution_count": 32,
     "metadata": {},
     "output_type": "execute_result"
    }
   ],
   "source": [
    "x = [1,2,3,4,5]\n",
    "y = [1,2,3]\n",
    "list(itertools.zip_longest(x,y))"
   ]
  },
  {
   "attachments": {},
   "cell_type": "markdown",
   "metadata": {},
   "source": [
    "#### ``combinations(l,n)``\n",
    "- Todas las posibles combinaciones de ``n`` elementos de ``l``.\n",
    "- ``combinations_with_replacement`` es lo mismo pero con reemplazo."
   ]
  },
  {
   "cell_type": "code",
   "execution_count": 33,
   "metadata": {},
   "outputs": [
    {
     "data": {
      "text/plain": [
       "[(1, 2),\n",
       " (1, 3),\n",
       " (1, 4),\n",
       " (1, 5),\n",
       " (2, 3),\n",
       " (2, 4),\n",
       " (2, 5),\n",
       " (3, 4),\n",
       " (3, 5),\n",
       " (4, 5)]"
      ]
     },
     "execution_count": 33,
     "metadata": {},
     "output_type": "execute_result"
    }
   ],
   "source": [
    "list(itertools.combinations(x, 2))"
   ]
  },
  {
   "attachments": {},
   "cell_type": "markdown",
   "metadata": {},
   "source": [
    "#### **``permutations(l)``**\n",
    "- Devuelve todas las posibles permutaciones de los elementos de la lista ``l``.\n",
    "- Muy útil para realizar cálculos estadísticos.\n"
   ]
  },
  {
   "cell_type": "code",
   "execution_count": 34,
   "metadata": {},
   "outputs": [
    {
     "data": {
      "text/plain": [
       "[(1, 2, 3), (1, 3, 2), (2, 1, 3), (2, 3, 1), (3, 1, 2), (3, 2, 1)]"
      ]
     },
     "execution_count": 34,
     "metadata": {},
     "output_type": "execute_result"
    }
   ],
   "source": [
    "list(itertools.permutations(y))"
   ]
  },
  {
   "attachments": {},
   "cell_type": "markdown",
   "metadata": {},
   "source": [
    "##### Cuidado con estas funciones por la explosión combinatoria\n",
    "- https://en.wikipedia.org/wiki/Combinatorial_explosion"
   ]
  }
 ],
 "metadata": {
  "kernelspec": {
   "display_name": "Python 3",
   "language": "python",
   "name": "python3"
  },
  "language_info": {
   "codemirror_mode": {
    "name": "ipython",
    "version": 3
   },
   "file_extension": ".py",
   "mimetype": "text/x-python",
   "name": "python",
   "nbconvert_exporter": "python",
   "pygments_lexer": "ipython3",
   "version": "3.10.9"
  },
  "orig_nbformat": 4,
  "vscode": {
   "interpreter": {
    "hash": "f2602f62725692c171be4634a254054368e54a417e74eada098f42e0fd72e7fd"
   }
  }
 },
 "nbformat": 4,
 "nbformat_minor": 2
}
