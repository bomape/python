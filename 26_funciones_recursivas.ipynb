{
 "cells": [
  {
   "attachments": {},
   "cell_type": "markdown",
   "metadata": {},
   "source": [
    "### RECURSIVIDAD\n",
    "- Concepto\n",
    "- *Ejercicios*"
   ]
  },
  {
   "attachments": {},
   "cell_type": "markdown",
   "metadata": {},
   "source": [
    "#### Concepto\n",
    "- La recursividad es un método de resolución de un problema computacional cuya solución depende de las soluciones de instancias más pequeñas del mismo problema.\n",
    "- La recursividad resuelve estos problemas utilizando **funciones que se llaman a sí mismas** desde su propio código.\n",
    "- **IMPORTANTE**: es obligatorio alguna *condición de parada* para romper la recursividad en algún momento."
   ]
  },
  {
   "attachments": {},
   "cell_type": "markdown",
   "metadata": {},
   "source": [
    "#### *Ejercicios*\n",
    "- Obtener el factorial de un número.\n",
    "- Serie Fibonacci."
   ]
  },
  {
   "attachments": {},
   "cell_type": "markdown",
   "metadata": {},
   "source": [
    "##### Obtener el factorial de un número"
   ]
  },
  {
   "cell_type": "code",
   "execution_count": 6,
   "metadata": {},
   "outputs": [
    {
     "data": {
      "text/plain": [
       "120"
      ]
     },
     "execution_count": 6,
     "metadata": {},
     "output_type": "execute_result"
    }
   ],
   "source": [
    "def factorial(x):\n",
    "    if x == 1:\n",
    "        # Esta es la denominada 'condicion de parada' de la recursividad\n",
    "        return x\n",
    "    else: \n",
    "        return (x* factorial(x-1))\n",
    "\n",
    "numero = 5\n",
    "factorial(numero)"
   ]
  },
  {
   "attachments": {},
   "cell_type": "markdown",
   "metadata": {},
   "source": [
    "##### Serie Fibonacci"
   ]
  },
  {
   "cell_type": "code",
   "execution_count": 8,
   "metadata": {},
   "outputs": [
    {
     "data": {
      "text/plain": [
       "5"
      ]
     },
     "execution_count": 8,
     "metadata": {},
     "output_type": "execute_result"
    }
   ],
   "source": [
    "def fibonacci(n):\n",
    "    if n in {0,1}:\n",
    "        return n\n",
    "    return fibonacci(n-1) + fibonacci(n-2)\n",
    "    \n",
    "numero = 5\n",
    "fibonacci(5)"
   ]
  },
  {
   "cell_type": "code",
   "execution_count": 9,
   "metadata": {},
   "outputs": [
    {
     "name": "stdout",
     "output_type": "stream",
     "text": [
      "secuencia Fibonacci\n",
      "0\n",
      "1\n",
      "1\n",
      "2\n",
      "3\n"
     ]
    }
   ],
   "source": [
    "num_terminos = int(input('cuantos terminos de la serie Fibo quieres? '))\n",
    "\n",
    "n1, n2 = 0, 1\n",
    "contador = 0\n",
    "\n",
    "if num_terminos <= 0:\n",
    "    print('la cantidad debe ser un numero positivo')\n",
    "else:\n",
    "    print('secuencia Fibonacci')\n",
    "    while contador < num_terminos:\n",
    "        print(n1)\n",
    "        n = n1+n2\n",
    "        n1 = n2\n",
    "        n2 = n\n",
    "        contador+=1"
   ]
  }
 ],
 "metadata": {
  "kernelspec": {
   "display_name": "Python 3",
   "language": "python",
   "name": "python3"
  },
  "language_info": {
   "codemirror_mode": {
    "name": "ipython",
    "version": 3
   },
   "file_extension": ".py",
   "mimetype": "text/x-python",
   "name": "python",
   "nbconvert_exporter": "python",
   "pygments_lexer": "ipython3",
   "version": "3.7.9"
  },
  "orig_nbformat": 4,
  "vscode": {
   "interpreter": {
    "hash": "f2602f62725692c171be4634a254054368e54a417e74eada098f42e0fd72e7fd"
   }
  }
 },
 "nbformat": 4,
 "nbformat_minor": 2
}
