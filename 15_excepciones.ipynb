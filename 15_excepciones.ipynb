{
 "cells": [
  {
   "attachments": {},
   "cell_type": "markdown",
   "metadata": {},
   "source": [
    "### EXCEPCIONES\n",
    "- Concepto\n",
    "- ``raise``\n",
    "- Excepciones más comunes"
   ]
  },
  {
   "attachments": {},
   "cell_type": "markdown",
   "metadata": {},
   "source": [
    "#### Concepto\n",
    "- Permiten separar el flujo normal del programa de sus posibles flujos alternativos.\n",
    "- Sirven para manejar los errores en el código de manera estructurada.\n",
    "- **Importante**: es recomendable especificar el tipo de error cometido cuando se indica el ``except``. De esta forma, se tienen un mayor entendimiento de las vulnerabilidades del código."
   ]
  },
  {
   "cell_type": "code",
   "execution_count": null,
   "metadata": {},
   "outputs": [],
   "source": [
    "try:\n",
    "    # Código que puede lanzar alguna execpción.\n",
    "except Ex1 as e:\n",
    "    # Código que se ejecuta cuando ocurre una excepcion de tipo 'Ext1' (o derivadas).\n",
    "except Ex2 as e:\n",
    "    # Se pueden poner tantas excepciones como se consideren.\n",
    "except:\n",
    "    # Código ejecutado cuando ocurre alguna excepción no capturada antes.\n",
    "    # No es aconsejable su uso, ya que interesa conocer qué excepciones se pueden dar.\n",
    "else:\n",
    "    # Código que se ejecuta si no se produce una excepción (uso poco común)\n",
    "finally:\n",
    "    # Código que se ejecuta siempre, se produzca o no una excepción"
   ]
  },
  {
   "cell_type": "code",
   "execution_count": 5,
   "metadata": {},
   "outputs": [
    {
     "data": {
      "text/plain": [
       "'Infinito'"
      ]
     },
     "execution_count": 5,
     "metadata": {},
     "output_type": "execute_result"
    }
   ],
   "source": [
    "def dividir(dividendo, divisor):\n",
    "    \"\"\" Realiza la division entre dos numeros \"\"\"\n",
    "    try:\n",
    "        resultado = dividendo / divisor\n",
    "    except ZeroDivisionError:\n",
    "        resultado = 'Infinito'\n",
    "    return resultado\n",
    "\n",
    "dividendo = 15\n",
    "divisor = 0\n",
    "dividir(dividendo, divisor)"
   ]
  },
  {
   "attachments": {},
   "cell_type": "markdown",
   "metadata": {},
   "source": [
    "En el ejemplo de antes, ``ZeroDivisionError`` puede omitirse y el resultado sería el mismo. Sin embargo es buena práctica **indicar el tipo de excepción** ya que demuestra que el programador tiene más conocimiento de los posibles errores que pueden haber y permite identificar las excepciones que puedan darse simultáneamente."
   ]
  },
  {
   "attachments": {},
   "cell_type": "markdown",
   "metadata": {},
   "source": [
    "#### **``raise``**\n",
    "- Permite forzar el lanzamiento de una excepción desde el código.\n",
    "- Estas excepciones deben ser objetos de una clase derivada de ``Exception``."
   ]
  },
  {
   "cell_type": "code",
   "execution_count": 3,
   "metadata": {},
   "outputs": [
    {
     "name": "stdout",
     "output_type": "stream",
     "text": [
      "Excepcion lanzada.\n"
     ]
    },
    {
     "ename": "NameError",
     "evalue": "Fiuuu",
     "output_type": "error",
     "traceback": [
      "\u001b[1;31m---------------------------------------------------------------------------\u001b[0m",
      "\u001b[1;31mNameError\u001b[0m                                 Traceback (most recent call last)",
      "Cell \u001b[1;32mIn[3], line 2\u001b[0m\n\u001b[0;32m      1\u001b[0m \u001b[39mtry\u001b[39;00m:\n\u001b[1;32m----> 2\u001b[0m     \u001b[39mraise\u001b[39;00m \u001b[39mNameError\u001b[39;00m(\u001b[39m'\u001b[39m\u001b[39mFiuuu\u001b[39m\u001b[39m'\u001b[39m)\n\u001b[0;32m      3\u001b[0m \u001b[39mexcept\u001b[39;00m \u001b[39mNameError\u001b[39;00m:\n\u001b[0;32m      4\u001b[0m     \u001b[39mprint\u001b[39m(\u001b[39m'\u001b[39m\u001b[39mExcepcion lanzada.\u001b[39m\u001b[39m'\u001b[39m)\n",
      "\u001b[1;31mNameError\u001b[0m: Fiuuu"
     ]
    }
   ],
   "source": [
    "try:\n",
    "    raise NameError('Fiuuu')\n",
    "except NameError:\n",
    "    print('Excepcion lanzada.')\n",
    "    raise"
   ]
  },
  {
   "cell_type": "code",
   "execution_count": 2,
   "metadata": {},
   "outputs": [
    {
     "ename": "ValueError",
     "evalue": "La edad no puede ser negativa",
     "output_type": "error",
     "traceback": [
      "\u001b[1;31m---------------------------------------------------------------------------\u001b[0m",
      "\u001b[1;31mValueError\u001b[0m                                Traceback (most recent call last)",
      "Cell \u001b[1;32mIn[2], line 9\u001b[0m\n\u001b[0;32m      6\u001b[0m         \u001b[39mreturn\u001b[39;00m \u001b[39mprint\u001b[39m(\u001b[39m'\u001b[39m\u001b[39mEdad verificada\u001b[39m\u001b[39m'\u001b[39m)\n\u001b[0;32m      8\u001b[0m edad \u001b[39m=\u001b[39m \u001b[39m-\u001b[39m\u001b[39m15\u001b[39m\n\u001b[1;32m----> 9\u001b[0m _validar_edad(edad)\n",
      "Cell \u001b[1;32mIn[2], line 4\u001b[0m, in \u001b[0;36m_validar_edad\u001b[1;34m(edad)\u001b[0m\n\u001b[0;32m      2\u001b[0m \u001b[39m\u001b[39m\u001b[39m\"\"\" Verificar si la edad es válida \"\"\"\u001b[39;00m\n\u001b[0;32m      3\u001b[0m \u001b[39mif\u001b[39;00m edad \u001b[39m<\u001b[39m \u001b[39m0\u001b[39m:\n\u001b[1;32m----> 4\u001b[0m     \u001b[39mraise\u001b[39;00m \u001b[39mValueError\u001b[39;00m(\u001b[39m'\u001b[39m\u001b[39mLa edad no puede ser negativa\u001b[39m\u001b[39m'\u001b[39m)\n\u001b[0;32m      5\u001b[0m \u001b[39melse\u001b[39;00m:\n\u001b[0;32m      6\u001b[0m     \u001b[39mreturn\u001b[39;00m \u001b[39mprint\u001b[39m(\u001b[39m'\u001b[39m\u001b[39mEdad verificada\u001b[39m\u001b[39m'\u001b[39m)\n",
      "\u001b[1;31mValueError\u001b[0m: La edad no puede ser negativa"
     ]
    }
   ],
   "source": [
    "def _validar_edad(edad):\n",
    "    \"\"\" Verificar si la edad es válida \"\"\"\n",
    "    if edad < 0:\n",
    "        raise ValueError('La edad no puede ser negativa')\n",
    "    else:\n",
    "        return print('Edad verificada')\n",
    "    \n",
    "edad = -15\n",
    "_validar_edad(edad)"
   ]
  },
  {
   "attachments": {},
   "cell_type": "markdown",
   "metadata": {},
   "source": [
    "##### Excepciones más comunes\n",
    "- Se conocen como *built-in exceptions* (https://docs.python.org/3/library/exceptions.html). Destacan:\n",
    "    - ``ImportError``: Una sentencia ``import`` no ha podido cargar un módulo.\n",
    "    - ``IndexError``: Al intentar acceder a un índice inexistente en una secuencia.\n",
    "    - ``KeyError``: No encuentra la clave en un diccionario.\n",
    "    - ``RuntimeError``: Un error que no cae en ninguna de las otras categorías.\n",
    "    - ``SyntaxError``: Error sintáctico en el código.\n",
    "    - ``TypeError``: Operación errónea para el tipo de datos.\n",
    "    - ``ZeroDivisionError``: Al intentar dividir por 0."
   ]
  }
 ],
 "metadata": {
  "kernelspec": {
   "display_name": "Python 3",
   "language": "python",
   "name": "python3"
  },
  "language_info": {
   "codemirror_mode": {
    "name": "ipython",
    "version": 3
   },
   "file_extension": ".py",
   "mimetype": "text/x-python",
   "name": "python",
   "nbconvert_exporter": "python",
   "pygments_lexer": "ipython3",
   "version": "3.11.2"
  },
  "orig_nbformat": 4,
  "vscode": {
   "interpreter": {
    "hash": "f2602f62725692c171be4634a254054368e54a417e74eada098f42e0fd72e7fd"
   }
  }
 },
 "nbformat": 4,
 "nbformat_minor": 2
}
