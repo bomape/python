{
 "cells": [
  {
   "attachments": {},
   "cell_type": "markdown",
   "metadata": {},
   "source": [
    "#### VALORES LÓGICOS\n",
    "- Solo dos:  ``True`` y ``False``.\n",
    "- Para saber el valor booleano de una variable, se usa la función ``bool``."
   ]
  },
  {
   "cell_type": "code",
   "execution_count": 43,
   "metadata": {},
   "outputs": [
    {
     "name": "stdout",
     "output_type": "stream",
     "text": [
      "True\n",
      "True\n",
      "True\n",
      "False\n",
      "True\n",
      "False\n",
      "False\n"
     ]
    }
   ],
   "source": [
    "print(bool('True'))\n",
    "print(bool('False'))\n",
    "print(bool(' '))\n",
    "print(bool(''))\n",
    "print(bool('0'))\n",
    "print(bool(0))\n",
    "print(bool(None))\n",
    "\n"
   ]
  },
  {
   "attachments": {},
   "cell_type": "markdown",
   "metadata": {},
   "source": [
    "#### OPERADORES BOOLEANOS\n",
    "- ``and``, ``or`` y ``not``\n",
    "- se resuelven de izquierda a derecha con evaluacion *lazy*:\n",
    "    - evaluación inmediata a ``False`` en el primer término ``False`` de una **conjuncion** (``and``)\n",
    "    - evaluación inmediata a ``True`` en el primer término ``True`` de una **disyunción** (``or``)\n",
    "- de esta forma, deja de evaluar futuros términos condicionantes de la sentencia."
   ]
  },
  {
   "attachments": {},
   "cell_type": "markdown",
   "metadata": {},
   "source": [
    "Esta característica permite escribir expresiones más concisas"
   ]
  },
  {
   "cell_type": "code",
   "execution_count": 44,
   "metadata": {},
   "outputs": [
    {
     "name": "stdout",
     "output_type": "stream",
     "text": [
      "5\n"
     ]
    }
   ],
   "source": [
    "var = 5\n",
    "sentido = var or 42\n",
    "# bool(var) == True --> sentido = var\n",
    "print(sentido)"
   ]
  },
  {
   "cell_type": "code",
   "execution_count": 45,
   "metadata": {},
   "outputs": [
    {
     "name": "stdout",
     "output_type": "stream",
     "text": [
      "42\n"
     ]
    }
   ],
   "source": [
    "var = 0\n",
    "sentido = var or 42 \n",
    "# bool(var) == False --> sentido = 42\n",
    "print(sentido)"
   ]
  },
  {
   "attachments": {},
   "cell_type": "markdown",
   "metadata": {},
   "source": [
    "#### OPERADORES DE ORDEN\n",
    "- ``<``, ``>``, ``<=``, ``>=``\n",
    "- comparan sobre números, cadenas de caracteres (lexicográficamente) y secuencias elemento a elemento de izqda a dcha\n"
   ]
  },
  {
   "attachments": {},
   "cell_type": "markdown",
   "metadata": {},
   "source": [
    "#### OPERADORES COMPARATIVOS DE VALORES\n",
    "- **``==``**: devuelve ``True`` si dos valores son iguales\n",
    "- **``!=``**: devuelve ``True`` si dos valores son **distintos**"
   ]
  },
  {
   "cell_type": "code",
   "execution_count": 46,
   "metadata": {},
   "outputs": [
    {
     "data": {
      "text/plain": [
       "False"
      ]
     },
     "execution_count": 46,
     "metadata": {},
     "output_type": "execute_result"
    }
   ],
   "source": [
    "45 != 90/2"
   ]
  },
  {
   "cell_type": "code",
   "execution_count": 47,
   "metadata": {},
   "outputs": [
    {
     "data": {
      "text/plain": [
       "False"
      ]
     },
     "execution_count": 47,
     "metadata": {},
     "output_type": "execute_result"
    }
   ],
   "source": [
    "'Hola' == 'H o l a'"
   ]
  },
  {
   "attachments": {},
   "cell_type": "markdown",
   "metadata": {},
   "source": [
    "**Posibles errores de precisión decimal**: si, ante operaciones en coma flotante, existen incongruencias en las comparaciones, se recomienda comprobar si el valor está cerca usando intervalos"
   ]
  },
  {
   "cell_type": "code",
   "execution_count": 48,
   "metadata": {},
   "outputs": [
    {
     "data": {
      "text/plain": [
       "False"
      ]
     },
     "execution_count": 48,
     "metadata": {},
     "output_type": "execute_result"
    }
   ],
   "source": [
    "42 == 42.0000001"
   ]
  },
  {
   "cell_type": "code",
   "execution_count": 49,
   "metadata": {},
   "outputs": [
    {
     "data": {
      "text/plain": [
       "True"
      ]
     },
     "execution_count": 49,
     "metadata": {},
     "output_type": "execute_result"
    }
   ],
   "source": [
    "epsilon = 0.001\n",
    "(42 > 42.0000001 - epsilon) and (42 < 42.0000001 + epsilon)"
   ]
  },
  {
   "attachments": {},
   "cell_type": "markdown",
   "metadata": {},
   "source": [
    "#### OPERADORES DE IDENTIDAD\n",
    "- **``is``**: devuelve ``True`` si dos valores son iguales\n",
    "- **``is not``**: devuelve ``True`` si dos valores son **distintos**\n",
    "- dos valores pueden ser iguales, pero no el mismo objeto"
   ]
  },
  {
   "cell_type": "code",
   "execution_count": 50,
   "metadata": {},
   "outputs": [
    {
     "data": {
      "text/plain": [
       "True"
      ]
     },
     "execution_count": 50,
     "metadata": {},
     "output_type": "execute_result"
    }
   ],
   "source": [
    "1267650600228229401496703205376 == 2 ** 100"
   ]
  },
  {
   "cell_type": "code",
   "execution_count": 51,
   "metadata": {},
   "outputs": [
    {
     "name": "stderr",
     "output_type": "stream",
     "text": [
      "<>:1: SyntaxWarning: \"is\" with a literal. Did you mean \"==\"?\n",
      "<>:1: SyntaxWarning: \"is\" with a literal. Did you mean \"==\"?\n",
      "C:\\Users\\borja\\AppData\\Local\\Temp/ipykernel_11672/199761476.py:1: SyntaxWarning: \"is\" with a literal. Did you mean \"==\"?\n",
      "  1267650600228229401496703205376 is 2 ** 100\n"
     ]
    },
    {
     "data": {
      "text/plain": [
       "False"
      ]
     },
     "execution_count": 51,
     "metadata": {},
     "output_type": "execute_result"
    }
   ],
   "source": [
    "1267650600228229401496703205376 is 2 ** 100"
   ]
  }
 ],
 "metadata": {
  "kernelspec": {
   "display_name": "drl_3.10",
   "language": "python",
   "name": "python3"
  },
  "language_info": {
   "codemirror_mode": {
    "name": "ipython",
    "version": 3
   },
   "file_extension": ".py",
   "mimetype": "text/x-python",
   "name": "python",
   "nbconvert_exporter": "python",
   "pygments_lexer": "ipython3",
   "version": "3.9.7"
  },
  "orig_nbformat": 4
 },
 "nbformat": 4,
 "nbformat_minor": 2
}
