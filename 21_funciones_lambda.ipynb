{
 "cells": [
  {
   "attachments": {},
   "cell_type": "markdown",
   "metadata": {},
   "source": [
    "### FUNCIONES ``LAMBDA``\n",
    "- Concepto\n",
    "- Uso"
   ]
  },
  {
   "attachments": {},
   "cell_type": "markdown",
   "metadata": {},
   "source": [
    "#### Concepto\n",
    "- Tipo de función que puede tomar cualquier número de argumentos, pero **sólo puede tener una expresión**.\n",
    "- Sintaxis: ``lambda <argumentos>: <expresion>``"
   ]
  },
  {
   "cell_type": "code",
   "execution_count": 4,
   "metadata": {},
   "outputs": [
    {
     "name": "stdout",
     "output_type": "stream",
     "text": [
      "l0: 15\n",
      "\n",
      "l1: 30\n"
     ]
    }
   ],
   "source": [
    "l0 = lambda a: a+10\n",
    "print('l0:', l0(5))\n",
    "\n",
    "l1 = lambda a,b: a*b\n",
    "print('\\nl1:', l1(5,6))"
   ]
  },
  {
   "attachments": {},
   "cell_type": "markdown",
   "metadata": {},
   "source": [
    "#### Uso\n",
    "- Función anónima dentro de otra función."
   ]
  },
  {
   "cell_type": "code",
   "execution_count": 7,
   "metadata": {},
   "outputs": [
    {
     "name": "stdout",
     "output_type": "stream",
     "text": [
      "<function funcion_lambda.<locals>.<lambda> at 0x0000027B442E2700> <class 'function'>\n",
      "resultado: 22\n"
     ]
    }
   ],
   "source": [
    "def funcion_lambda(param):\n",
    "    return lambda a: a * param\n",
    "\n",
    "mi_doble = funcion_lambda(2)\n",
    "# mi_doble es una funcion lambda, necesita un argumento (a)\n",
    "print(mi_doble, type(mi_doble))\n",
    "resultado = mi_doble(11)\n",
    "print('resultado:', resultado)"
   ]
  },
  {
   "attachments": {},
   "cell_type": "markdown",
   "metadata": {},
   "source": [
    "- Se puede reutilizar con muchos otros argumentos."
   ]
  },
  {
   "cell_type": "code",
   "execution_count": 9,
   "metadata": {},
   "outputs": [
    {
     "name": "stdout",
     "output_type": "stream",
     "text": [
      "resultado: 33\n"
     ]
    }
   ],
   "source": [
    "mi_triple = funcion_lambda(3)\n",
    "resultado = mi_triple(11)\n",
    "print('resultado:', resultado)"
   ]
  }
 ],
 "metadata": {
  "kernelspec": {
   "display_name": "Python 3",
   "language": "python",
   "name": "python3"
  },
  "language_info": {
   "codemirror_mode": {
    "name": "ipython",
    "version": 3
   },
   "file_extension": ".py",
   "mimetype": "text/x-python",
   "name": "python",
   "nbconvert_exporter": "python",
   "pygments_lexer": "ipython3",
   "version": "3.11.2"
  },
  "orig_nbformat": 4,
  "vscode": {
   "interpreter": {
    "hash": "f2602f62725692c171be4634a254054368e54a417e74eada098f42e0fd72e7fd"
   }
  }
 },
 "nbformat": 4,
 "nbformat_minor": 2
}
