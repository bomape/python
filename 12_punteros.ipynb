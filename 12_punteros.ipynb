{
 "cells": [
  {
   "attachments": {},
   "cell_type": "markdown",
   "metadata": {},
   "source": [
    "### PUNTEROS\n",
    "- Concepto\n",
    "- Copia de valores"
   ]
  },
  {
   "attachments": {},
   "cell_type": "markdown",
   "metadata": {},
   "source": [
    "#### Concepto\n",
    "- Son variables que guardan la dirección de memoria donde está un valor\n",
    "- Todas las variables de Python apuntan a un valor en memoria\n",
    "    - Ese valor es un objeto\n",
    "    - Todo en Python es un objeto con un valor, un tipo y un identificador único"
   ]
  },
  {
   "cell_type": "code",
   "execution_count": 33,
   "metadata": {},
   "outputs": [
    {
     "name": "stdout",
     "output_type": "stream",
     "text": [
      "False\n",
      "True\n",
      "2940986659632 2940986658128\n"
     ]
    }
   ],
   "source": [
    "a = 1000000\n",
    "b = 1000 * 1000\n",
    "print(a is b)   # ambas variables son distintas...\n",
    "print(a == b)   # ... aunque apuntan al mismo valor\n",
    "\n",
    "print(id(a), id(b))     # tienen distintos id\n"
   ]
  },
  {
   "attachments": {},
   "cell_type": "markdown",
   "metadata": {},
   "source": [
    "#### Copia de valores\n",
    "- Puede ser un problema cuando no se usan tipos básicos o inmutables\n",
    "- Ejemplo: se quiere hacer una copia de la lista ``critical_data``"
   ]
  },
  {
   "cell_type": "code",
   "execution_count": 34,
   "metadata": {},
   "outputs": [],
   "source": [
    "critical_data = [1, 1, 1, 1, 1, 1]\n",
    "data_copy = critical_data"
   ]
  },
  {
   "attachments": {},
   "cell_type": "markdown",
   "metadata": {},
   "source": [
    "1. ``critical_data`` es la dirección de memoria donde están los datos\n",
    "2. ``data_copy`` es una **copia de la direccion de memoria**, no de los datos\n",
    "3. Cambiar ``critical_data`` afecta a los datos, y por tanto a ``data_copy``"
   ]
  },
  {
   "cell_type": "code",
   "execution_count": 35,
   "metadata": {},
   "outputs": [
    {
     "name": "stdout",
     "output_type": "stream",
     "text": [
      "la copia sufre los cambios del original: [1, 0, 0, 0, 1, 1]\n"
     ]
    }
   ],
   "source": [
    "critical_data[1:4] = [0,0,0]\n",
    "print('la copia sufre los cambios del original:', data_copy)"
   ]
  },
  {
   "attachments": {},
   "cell_type": "markdown",
   "metadata": {},
   "source": [
    "Para evitar esto, se hace una copia explícita mediante el módulo ``copy``:\n",
    "- **Shallow copy** (``copy``): copia el objeto **manteniendo las referencias**\n",
    "- **Deep copy** (``deepcopy``): copia el objeto y el contenido recursivamente"
   ]
  },
  {
   "cell_type": "code",
   "execution_count": 36,
   "metadata": {},
   "outputs": [
    {
     "name": "stdout",
     "output_type": "stream",
     "text": [
      "[[5, 2], [3, 4]] 2940987016576\n",
      "[[5, 2], [3, 4]] 2940987019904\n",
      "[[1, 2], [3, 4]] 2940985970240\n"
     ]
    }
   ],
   "source": [
    "import copy\n",
    "\n",
    "l1 = [[1,2], [3,4]]\n",
    "l2 = copy.copy(l1)\n",
    "l3 = copy.deepcopy(l1)\n",
    "\n",
    "l1[0][0] = 5\n",
    "\n",
    "print(l1, id(l1))\n",
    "print(l2, id(l2))\n",
    "print(l3, id(l3))"
   ]
  },
  {
   "attachments": {},
   "cell_type": "markdown",
   "metadata": {},
   "source": [
    "Con el ejemplo del comienzo no hay diferencia entre ambos métodos"
   ]
  },
  {
   "cell_type": "code",
   "execution_count": 37,
   "metadata": {},
   "outputs": [
    {
     "name": "stdout",
     "output_type": "stream",
     "text": [
      "original [1, 0, 0, 0, 1, 1] 2940987026688\n",
      "shallow [1, 0, 0, 0, 1, 1] 2940987119936\n",
      "deep [1, 0, 0, 0, 1, 1] 2940987119936\n"
     ]
    }
   ],
   "source": [
    "critical_data = [1, 1, 1, 1, 1, 1]\n",
    "data_copy_shallow = copy.copy(critical_data)\n",
    "data_copy_deep = copy.deepcopy(critical_data)\n",
    "critical_data[1:4] = [0,0,0]\n",
    "print('original', critical_data, id(critical_data))\n",
    "print('shallow', data_copy, id(data_copy))\n",
    "print('deep', data_copy, id(data_copy))"
   ]
  }
 ],
 "metadata": {
  "kernelspec": {
   "display_name": "Python 3",
   "language": "python",
   "name": "python3"
  },
  "language_info": {
   "codemirror_mode": {
    "name": "ipython",
    "version": 3
   },
   "file_extension": ".py",
   "mimetype": "text/x-python",
   "name": "python",
   "nbconvert_exporter": "python",
   "pygments_lexer": "ipython3",
   "version": "3.10.9"
  },
  "orig_nbformat": 4,
  "vscode": {
   "interpreter": {
    "hash": "f2602f62725692c171be4634a254054368e54a417e74eada098f42e0fd72e7fd"
   }
  }
 },
 "nbformat": 4,
 "nbformat_minor": 2
}
