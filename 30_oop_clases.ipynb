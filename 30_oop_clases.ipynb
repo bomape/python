{
 "cells": [
  {
   "attachments": {},
   "cell_type": "markdown",
   "metadata": {},
   "source": [
    "#### OOP: OBJECT ORIENTED PROGRAMMING\n",
    "**Objeto**: representación de un elemento que tiene dos características principales:\n",
    "- Datos (**atributos**)\n",
    "- Comportamiento (**métodos**)\n",
    "\n",
    "**Clase**: Plantilla a partir de la cual se crean los objetos individuales\n",
    "- el método ``__init__(self)`` sirve para inicializar objetos y se llama siempre que se crea un objeto de la clase. Pueden tener argumentos (posicionales u opcionales)\n",
    "- ``self`` hace referencia al **objeto** creado"
   ]
  },
  {
   "cell_type": "code",
   "execution_count": 9,
   "metadata": {},
   "outputs": [],
   "source": [
    "class Humano:\n",
    "    numero_ojos = 2\n",
    "    numero_corazones = 1\n",
    "    def __init__(self, nombre):\n",
    "        # Definicion de atributos\n",
    "        self.grito = '¡Bu!'\n",
    "        self.nombre = nombre\n",
    "\n",
    "    # Tras __init__ se definen los métodos del objeto\n",
    "\n",
    "    def asustar(self):\n",
    "        print(self.grito)\n",
    "    \n",
    "    def hablar(self):\n",
    "        print(f'Me llamo {self.nombre}')"
   ]
  },
  {
   "attachments": {},
   "cell_type": "markdown",
   "metadata": {},
   "source": [
    "Si se llama a una clase creada, el valor de retorno es un nuevo objeto"
   ]
  },
  {
   "cell_type": "code",
   "execution_count": 10,
   "metadata": {},
   "outputs": [
    {
     "name": "stdout",
     "output_type": "stream",
     "text": [
      "<__main__.Humano object at 0x0000024E16164DC0>\n",
      "Me llamo Paco\n",
      "¡Bu!\n"
     ]
    }
   ],
   "source": [
    "paco = Humano('Paco')\n",
    "print(paco)\n",
    "paco.hablar()\n",
    "paco.asustar()"
   ]
  },
  {
   "attachments": {},
   "cell_type": "markdown",
   "metadata": {},
   "source": [
    "#### ATRIBUTOS DE **OBJETO**\n",
    "Son variables dentro del propio objeto:\n",
    "- se declaran dentro de ``__init__`` asignados a ``self``: ``self.grito``, ``self.nombre``\n",
    "- así, cada objeto tiene sus propios atributos y **no se comparten**"
   ]
  },
  {
   "cell_type": "code",
   "execution_count": 11,
   "metadata": {},
   "outputs": [
    {
     "data": {
      "text/plain": [
       "False"
      ]
     },
     "execution_count": 11,
     "metadata": {},
     "output_type": "execute_result"
    }
   ],
   "source": [
    "marta = Humano('Marta')\n",
    "marta.nombre == paco.nombre"
   ]
  },
  {
   "attachments": {},
   "cell_type": "markdown",
   "metadata": {},
   "source": [
    "#### ATRIBUTOS DE **CLASE**\n",
    "Son variables dentro de la clase, atributos que los objetos **sí** comparten:\n",
    "- se declaran fuera de cualquier método: ``numero_ojos``, ``numero_corazones``\n",
    "- así, cada objeto de la clase **puede acceder a él**"
   ]
  },
  {
   "cell_type": "code",
   "execution_count": 13,
   "metadata": {},
   "outputs": [
    {
     "data": {
      "text/plain": [
       "True"
      ]
     },
     "execution_count": 13,
     "metadata": {},
     "output_type": "execute_result"
    }
   ],
   "source": [
    "marta.numero_ojos == paco.numero_ojos"
   ]
  },
  {
   "attachments": {},
   "cell_type": "markdown",
   "metadata": {},
   "source": [
    "- Tienen un atributo especial ``__slots__`` que determina qué atributos existen en la clase.\n",
    "- Útil con pocos atributos de clase y muchos objetos de la clase. Por ejemplo, las coordenadas: solo dos atributos **x** e **y**, pero multitud de puntos (que serían los objetos)\n",
    "- Estos objetos ocuparán solo el espacio necesario para esas variables\n",
    "- No se creará el diccionario interno del objeto ``.__dict__`` y **no se podrán añadir nuevos atributos**"
   ]
  },
  {
   "cell_type": "code",
   "execution_count": 49,
   "metadata": {},
   "outputs": [],
   "source": [
    "class Point2D():\n",
    "    __slots__ = ('x', 'y')\n",
    "    def __init__(self, x, y):\n",
    "        self.x, self.y = x, y"
   ]
  },
  {
   "cell_type": "code",
   "execution_count": 50,
   "metadata": {},
   "outputs": [],
   "source": [
    "punto_A = Point2D(0.5, 0.75)"
   ]
  },
  {
   "cell_type": "code",
   "execution_count": 51,
   "metadata": {},
   "outputs": [
    {
     "name": "stdout",
     "output_type": "stream",
     "text": [
      "paco.__dict__:  {'grito': '¡Bu!', 'nombre': 'Paco'}\n"
     ]
    },
    {
     "ename": "AttributeError",
     "evalue": "'Point2D' object has no attribute '__dict__'",
     "output_type": "error",
     "traceback": [
      "\u001b[1;31m---------------------------------------------------------------------------\u001b[0m",
      "\u001b[1;31mAttributeError\u001b[0m                            Traceback (most recent call last)",
      "\u001b[1;32mc:\\Users\\99GU9305\\Desktop\\MIO\\30_oop_clases.ipynb Cell 12\u001b[0m in \u001b[0;36m<cell line: 2>\u001b[1;34m()\u001b[0m\n\u001b[0;32m      <a href='vscode-notebook-cell:/c%3A/Users/99GU9305/Desktop/MIO/30_oop_clases.ipynb#X40sZmlsZQ%3D%3D?line=0'>1</a>\u001b[0m \u001b[39mprint\u001b[39m(\u001b[39m'\u001b[39m\u001b[39mpaco.__dict__: \u001b[39m\u001b[39m'\u001b[39m, paco\u001b[39m.\u001b[39m\u001b[39m__dict__\u001b[39m)\n\u001b[1;32m----> <a href='vscode-notebook-cell:/c%3A/Users/99GU9305/Desktop/MIO/30_oop_clases.ipynb#X40sZmlsZQ%3D%3D?line=1'>2</a>\u001b[0m \u001b[39mprint\u001b[39m(\u001b[39m'\u001b[39m\u001b[39mpunto_A.__dict__: \u001b[39m\u001b[39m'\u001b[39m, punto_A\u001b[39m.\u001b[39;49m\u001b[39m__dict__\u001b[39;49m)\n",
      "\u001b[1;31mAttributeError\u001b[0m: 'Point2D' object has no attribute '__dict__'"
     ]
    }
   ],
   "source": [
    "print('paco.__dict__: ', paco.__dict__)\n",
    "print('punto_A.__dict__: ', punto_A.__dict__)"
   ]
  },
  {
   "cell_type": "code",
   "execution_count": 52,
   "metadata": {},
   "outputs": [
    {
     "name": "stdout",
     "output_type": "stream",
     "text": [
      "punto_A.__slots__:  ('x', 'y')\n"
     ]
    }
   ],
   "source": [
    "print('punto_A.__slots__: ', punto_A.__slots__)"
   ]
  },
  {
   "cell_type": "code",
   "execution_count": 36,
   "metadata": {},
   "outputs": [
    {
     "ename": "AttributeError",
     "evalue": "'Human' object has no attribute '__dict__'",
     "output_type": "error",
     "traceback": [
      "\u001b[1;31m---------------------------------------------------------------------------\u001b[0m",
      "\u001b[1;31mAttributeError\u001b[0m                            Traceback (most recent call last)",
      "\u001b[1;32mc:\\Users\\99GU9305\\Desktop\\MIO\\30_oop_clases.ipynb Cell 14\u001b[0m in \u001b[0;36m<cell line: 1>\u001b[1;34m()\u001b[0m\n\u001b[1;32m----> <a href='vscode-notebook-cell:/c%3A/Users/99GU9305/Desktop/MIO/30_oop_clases.ipynb#X43sZmlsZQ%3D%3D?line=0'>1</a>\u001b[0m carlos\u001b[39m.\u001b[39;49m\u001b[39m__dict__\u001b[39;49m\n",
      "\u001b[1;31mAttributeError\u001b[0m: 'Human' object has no attribute '__dict__'"
     ]
    }
   ],
   "source": [
    "carlos.__dict__"
   ]
  },
  {
   "cell_type": "code",
   "execution_count": 41,
   "metadata": {},
   "outputs": [
    {
     "ename": "AttributeError",
     "evalue": "'Human' object has no attribute 'edad'",
     "output_type": "error",
     "traceback": [
      "\u001b[1;31m---------------------------------------------------------------------------\u001b[0m",
      "\u001b[1;31mAttributeError\u001b[0m                            Traceback (most recent call last)",
      "\u001b[1;32mc:\\Users\\99GU9305\\Desktop\\MIO\\30_oop_clases.ipynb Cell 15\u001b[0m in \u001b[0;36m<cell line: 1>\u001b[1;34m()\u001b[0m\n\u001b[1;32m----> <a href='vscode-notebook-cell:/c%3A/Users/99GU9305/Desktop/MIO/30_oop_clases.ipynb#X50sZmlsZQ%3D%3D?line=0'>1</a>\u001b[0m carlos\u001b[39m.\u001b[39medad \u001b[39m=\u001b[39m \u001b[39m43\u001b[39m\n",
      "\u001b[1;31mAttributeError\u001b[0m: 'Human' object has no attribute 'edad'"
     ]
    }
   ],
   "source": [
    "carlos.edad = 43"
   ]
  },
  {
   "cell_type": "code",
   "execution_count": 40,
   "metadata": {},
   "outputs": [
    {
     "ename": "AttributeError",
     "evalue": "'tuple' object has no attribute 'append'",
     "output_type": "error",
     "traceback": [
      "\u001b[1;31m---------------------------------------------------------------------------\u001b[0m",
      "\u001b[1;31mAttributeError\u001b[0m                            Traceback (most recent call last)",
      "\u001b[1;32mc:\\Users\\99GU9305\\Desktop\\MIO\\30_oop_clases.ipynb Cell 15\u001b[0m in \u001b[0;36m<cell line: 1>\u001b[1;34m()\u001b[0m\n\u001b[1;32m----> <a href='vscode-notebook-cell:/c%3A/Users/99GU9305/Desktop/MIO/30_oop_clases.ipynb#X44sZmlsZQ%3D%3D?line=0'>1</a>\u001b[0m carlos\u001b[39m.\u001b[39;49m\u001b[39m__slots__\u001b[39;49m\u001b[39m.\u001b[39;49mappend(\u001b[39m'\u001b[39m\u001b[39medad\u001b[39m\u001b[39m'\u001b[39m)\n",
      "\u001b[1;31mAttributeError\u001b[0m: 'tuple' object has no attribute 'append'"
     ]
    }
   ],
   "source": [
    "carlos.__slots__.append('edad')"
   ]
  },
  {
   "cell_type": "code",
   "execution_count": null,
   "metadata": {},
   "outputs": [],
   "source": []
  }
 ],
 "metadata": {
  "kernelspec": {
   "display_name": "base",
   "language": "python",
   "name": "python3"
  },
  "language_info": {
   "codemirror_mode": {
    "name": "ipython",
    "version": 3
   },
   "file_extension": ".py",
   "mimetype": "text/x-python",
   "name": "python",
   "nbconvert_exporter": "python",
   "pygments_lexer": "ipython3",
   "version": "3.9.12"
  },
  "orig_nbformat": 4
 },
 "nbformat": 4,
 "nbformat_minor": 2
}
