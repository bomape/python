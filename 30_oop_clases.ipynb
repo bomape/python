{
 "cells": [
  {
   "attachments": {},
   "cell_type": "markdown",
   "metadata": {},
   "source": [
    "#### OOP: OBJECT ORIENTED PROGRAMMING\n",
    "- Conceptos de objetos y clases\n",
    "- Atributos de objeto\n",
    "- Atributos de clase\n",
    "- Métodos de clase (``@classmethod``)\n",
    "- Métodos estáticos (``@staticmethod``)\n",
    "- EXTRA:\n",
    "    - Elementos principales de la OOP\n",
    "    - Nomenclatura de clases y objetos\n",
    "    - Enumerados"
   ]
  },
  {
   "attachments": {},
   "cell_type": "markdown",
   "metadata": {},
   "source": [
    "#### Conceptos de objetos y clases\n",
    "\n",
    "**Objeto**: representación de un elemento que tiene dos características principales:\n",
    "- Datos (**atributos**): los cuales están almacenados en *objeto*.``__dict__``\n",
    "- Comportamiento (**métodos**): destacan dos métodos para mostrar los objetos como texto:\n",
    "    - ``__str__``: representación para humanos\n",
    "    - ``__repr__``: representación para máquina. Este debería usarse con ``eva`` para reconstruir el objeto.\n",
    "\n",
    "**Clase**: Plantilla a partir de la cual se crean los objetos individuales\n",
    "- el método ``__init__(self)`` sirve para inicializar objetos, definiendo los atributos que estos tendrán. Se llama siempre que se crea un objeto de la clase. Pueden tener argumentos (posicionales u opcionales).\n",
    "- ``self`` hace referencia al **objeto** creado\n",
    "- Es buena práctica incluir atributos a priori, aunque no se conozca su valor (``altura``), y evitar definirlos después mediante una instancia de la clase (``objeto.nuevo_atributo = valor``)."
   ]
  },
  {
   "cell_type": "code",
   "execution_count": 1,
   "metadata": {},
   "outputs": [],
   "source": [
    "class Humano:\n",
    "    numero_ojos = 2\n",
    "    numero_dientes = []\n",
    "    altura = None\n",
    "    def __init__(self, nombre):\n",
    "        # Definicion de atributos\n",
    "        self.grito = '¡Bu!'\n",
    "        self.nombre = nombre\n",
    "\n",
    "    # Tras __init__ se definen los métodos del objeto\n",
    "\n",
    "    def asustar(self):\n",
    "        print(self.grito)\n",
    "    \n",
    "    def hablar(self):\n",
    "        print(f'Me llamo {self.nombre}')"
   ]
  },
  {
   "attachments": {},
   "cell_type": "markdown",
   "metadata": {},
   "source": [
    "Si se llama a una clase creada, el valor de retorno es un nuevo objeto"
   ]
  },
  {
   "cell_type": "code",
   "execution_count": 2,
   "metadata": {},
   "outputs": [
    {
     "name": "stdout",
     "output_type": "stream",
     "text": [
      "<__main__.Humano object at 0x000001DC2FC85790>\n",
      "Me llamo Paco\n",
      "¡Bu!\n"
     ]
    }
   ],
   "source": [
    "paco = Humano('Paco')\n",
    "print(paco)\n",
    "paco.hablar()\n",
    "paco.asustar()"
   ]
  },
  {
   "attachments": {},
   "cell_type": "markdown",
   "metadata": {},
   "source": [
    "#### ATRIBUTOS DE **OBJETO**\n",
    "Son variables dentro del propio objeto:\n",
    "- se declaran dentro de ``__init__`` asignados a ``self``: ``self.grito``, ``self.nombre``\n",
    "- así, cada objeto tiene sus propios atributos y **no se comparten**"
   ]
  },
  {
   "cell_type": "code",
   "execution_count": 3,
   "metadata": {},
   "outputs": [
    {
     "data": {
      "text/plain": [
       "False"
      ]
     },
     "execution_count": 3,
     "metadata": {},
     "output_type": "execute_result"
    }
   ],
   "source": [
    "marta = Humano('Marta')\n",
    "marta.nombre == paco.nombre"
   ]
  },
  {
   "attachments": {},
   "cell_type": "markdown",
   "metadata": {},
   "source": [
    "#### ATRIBUTOS DE **CLASE**\n",
    "Son variables dentro de la clase, atributos que los objetos **sí** comparten:\n",
    "- se declaran fuera de cualquier método: ``numero_ojos``, ``numero_corazones``\n",
    "- así, cada objeto de la clase **puede acceder a él**"
   ]
  },
  {
   "cell_type": "code",
   "execution_count": 4,
   "metadata": {},
   "outputs": [
    {
     "data": {
      "text/plain": [
       "True"
      ]
     },
     "execution_count": 4,
     "metadata": {},
     "output_type": "execute_result"
    }
   ],
   "source": [
    "marta.numero_ojos == paco.numero_ojos"
   ]
  },
  {
   "attachments": {},
   "cell_type": "markdown",
   "metadata": {},
   "source": [
    "#### MÉTODOS\n",
    "Funciones que representan el comportamiento de las instancias (objetos) de la clase.\n",
    "- Reciben un argumento referencia al objeto (``self``)\n",
    "- Se pueden llamar a desde la instancia o desde la clase: ``objeto.metodo()`` o ``clase().metodo()``"
   ]
  },
  {
   "cell_type": "code",
   "execution_count": 5,
   "metadata": {},
   "outputs": [
    {
     "name": "stdout",
     "output_type": "stream",
     "text": [
      "Me llamo Paco\n"
     ]
    }
   ],
   "source": [
    "paco.hablar()"
   ]
  },
  {
   "cell_type": "code",
   "execution_count": 6,
   "metadata": {},
   "outputs": [
    {
     "name": "stdout",
     "output_type": "stream",
     "text": [
      "Me llamo Lola\n"
     ]
    }
   ],
   "source": [
    "Humano('Lola').hablar()"
   ]
  },
  {
   "attachments": {},
   "cell_type": "markdown",
   "metadata": {},
   "source": [
    "##### MÉTODOS DE **CLASE** \n",
    "- Reciben una referencia a la clase (por convenio ``cls``)\n",
    "- Se utiliza el decorador ``@classmethod`` para indicar que es un método de clase"
   ]
  },
  {
   "cell_type": "code",
   "execution_count": 7,
   "metadata": {},
   "outputs": [],
   "source": [
    "class Humano:\n",
    "    numero_ojos = 2\n",
    "    numero_dientes = []\n",
    "    def __init__(self, nombre):\n",
    "        # Definicion de atributos\n",
    "        self.grito = '¡Bu!'\n",
    "        self.nombre = nombre\n",
    "\n",
    "    # Tras __init__ se definen los métodos del objeto\n",
    "\n",
    "    def asustar(self):\n",
    "        print(self.grito)\n",
    "    \n",
    "    def hablar(self):\n",
    "        print(f'Me llamo {self.nombre}')\n",
    "        \n",
    "    @classmethod\n",
    "    def add_diente(cls, diente):\n",
    "        cls.numero_dientes.append(diente)"
   ]
  },
  {
   "cell_type": "code",
   "execution_count": 8,
   "metadata": {},
   "outputs": [
    {
     "name": "stdout",
     "output_type": "stream",
     "text": [
      "[]\n",
      "[]\n"
     ]
    }
   ],
   "source": [
    "paco = Humano('Paco')\n",
    "marta = Humano('Marta')\n",
    "print(paco.numero_dientes)\n",
    "print(marta.numero_dientes)"
   ]
  },
  {
   "attachments": {},
   "cell_type": "markdown",
   "metadata": {},
   "source": [
    "Tras aplicar el método de clase a una instancia (p.e., paco), los cambios afectan al resto de instancias que pertenecen a la misma clase"
   ]
  },
  {
   "cell_type": "code",
   "execution_count": 9,
   "metadata": {},
   "outputs": [
    {
     "name": "stdout",
     "output_type": "stream",
     "text": [
      "['colmillo']\n",
      "['colmillo']\n"
     ]
    }
   ],
   "source": [
    "paco.add_diente('colmillo')\n",
    "print(paco.numero_dientes)\n",
    "print(marta.numero_dientes)"
   ]
  },
  {
   "attachments": {},
   "cell_type": "markdown",
   "metadata": {},
   "source": [
    "##### MÉTODOS **ESTÁTICOS** \n",
    "- **No** reciben referencia a la instancia ni a la clase\n",
    "- Se utiliza el decorador ``@staticmethod`` para indicar que es un método estático"
   ]
  },
  {
   "cell_type": "code",
   "execution_count": 10,
   "metadata": {},
   "outputs": [],
   "source": [
    "class Humano:\n",
    "    numero_ojos = 2\n",
    "    numero_dientes = []\n",
    "    def __init__(self, nombre):\n",
    "        # Definicion de atributos\n",
    "        self.grito = '¡Bu!'\n",
    "        self.nombre = nombre\n",
    "\n",
    "    # Tras __init__ se definen los métodos del objeto\n",
    "\n",
    "    def asustar(self):\n",
    "        print(self.grito)\n",
    "    \n",
    "    def hablar(self):\n",
    "        print(f'Me llamo {self.nombre}')\n",
    "        \n",
    "    @classmethod\n",
    "    def add_diente(cls, diente):\n",
    "        cls.numero_dientes.append(diente)\n",
    "        \n",
    "    @staticmethod\n",
    "    def reir():\n",
    "        print(\"LoL!!\")"
   ]
  },
  {
   "cell_type": "code",
   "execution_count": 11,
   "metadata": {},
   "outputs": [
    {
     "name": "stdout",
     "output_type": "stream",
     "text": [
      "LoL!!\n",
      "LoL!!\n"
     ]
    }
   ],
   "source": [
    "paco = Humano('Paco')\n",
    "marta = Humano('Marta')\n",
    "paco.reir()\n",
    "marta.reir()"
   ]
  },
  {
   "attachments": {},
   "cell_type": "markdown",
   "metadata": {},
   "source": [
    "### EXTRA\n",
    "#### ELEMENTOS PRINCIPALES DE LA PROGRAMACION ORIENTADA A OBJETOS\n",
    "Hay cuatro elementos que caracterizan a la programación orientada a objetos:\n",
    "- **Encapsulación**: Ocultación del estado, para que un objeto solo se pueda modificar mediante las operaciones definidas para este\n",
    "- **Abstracción**: Generalizar o especializar el comportamiento y/o las propiedades de una clase\n",
    "- **Herencia**: Mecanismo por el que es posible derivar una clase desde otra\n",
    "- **Polimorfismo**: Capacidad de variar el comportamiento de los objetos dependiendo de los parámetros con los que se les invoque\n",
    "\n",
    "Sus objetivos principales son:\n",
    "- Minimizar la necesidad de copiar y pegar código\n",
    "- Aumentar la reutilización y la extensibilidad\n"
   ]
  },
  {
   "attachments": {},
   "cell_type": "markdown",
   "metadata": {},
   "source": [
    "#### NOMENCLATURA DE CLASES Y OBJETOS\n",
    "- Las clases se definen en ``CamelCase``. Los métodos y atributos en ``snake_case``.\n",
    "- Pocas palabras y que reflejen los datos o funcionalidades claramente\n",
    "- Métodos de uso interno o no creados para desarrolladores comienzan por ``_``."
   ]
  },
  {
   "cell_type": "code",
   "execution_count": 12,
   "metadata": {},
   "outputs": [],
   "source": [
    "class NewClass:\n",
    "    def public_method(self):\n",
    "        pass\n",
    "    def _intern_method(self):\n",
    "        pass"
   ]
  },
  {
   "attachments": {},
   "cell_type": "markdown",
   "metadata": {},
   "source": [
    "#### ENUMERADOS\n",
    "Conjuntos de nombres simbólicos asociados a valores constantes\n",
    "- Nos permite relacionar constantes en un mismo lugar y realizar ciertas operaciones.\n",
    "- Si en lugar de ``Enum`` se utiliza ``IntEnum``, enumerado también es un entero"
   ]
  },
  {
   "cell_type": "code",
   "execution_count": null,
   "metadata": {},
   "outputs": [],
   "source": [
    "class Color(Enum):\n",
    "    RED = 1\n",
    "    GREEN = 2\n",
    "    BLUE = 3\n",
    "\n",
    "list(Color)\n",
    "Color.RED == Color.RED"
   ]
  }
 ],
 "metadata": {
  "kernelspec": {
   "display_name": "Python 3",
   "language": "python",
   "name": "python3"
  },
  "language_info": {
   "codemirror_mode": {
    "name": "ipython",
    "version": 3
   },
   "file_extension": ".py",
   "mimetype": "text/x-python",
   "name": "python",
   "nbconvert_exporter": "python",
   "pygments_lexer": "ipython3",
   "version": "3.11.2"
  },
  "orig_nbformat": 4,
  "vscode": {
   "interpreter": {
    "hash": "f2602f62725692c171be4634a254054368e54a417e74eada098f42e0fd72e7fd"
   }
  }
 },
 "nbformat": 4,
 "nbformat_minor": 2
}
