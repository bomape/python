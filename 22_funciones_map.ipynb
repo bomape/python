{
 "cells": [
  {
   "attachments": {},
   "cell_type": "markdown",
   "metadata": {},
   "source": [
    "### FUNCIONES ``MAP``\n",
    "- Concepto\n",
    "- Uso"
   ]
  },
  {
   "attachments": {},
   "cell_type": "markdown",
   "metadata": {},
   "source": [
    "#### Concepto\n",
    "- Permite ejecutar una función específica para todos y cada uno de los elementos de un iterable.\n",
    "- El elemento de este iterable actúa como argumento de la función específica.\n",
    "- Sintaxis: ``map``(``<funcion>``, ``<iterable_elementos>``)"
   ]
  },
  {
   "cell_type": "code",
   "execution_count": 13,
   "metadata": {},
   "outputs": [
    {
     "data": {
      "text/plain": [
       "<map at 0x2647aa92448>"
      ]
     },
     "execution_count": 13,
     "metadata": {},
     "output_type": "execute_result"
    }
   ],
   "source": [
    "def obtener_len(param):\n",
    "    # len es una función que devuelve el tamaño de un iterable (lista, tupla, string...)\n",
    "    return len(param)\n",
    "\n",
    "iterable = ('manzana asada', 'fresa', 'naranja')\n",
    "x = map(obtener_len, iterable)\n",
    "x"
   ]
  },
  {
   "attachments": {},
   "cell_type": "markdown",
   "metadata": {},
   "source": [
    "``obtener_len`` es la función que será ejecutada para cada elemento existente en ``iterable``. Los elementos de ``iterable`` deben coincidir con el número de parámetros de la función.\n",
    "``x`` no es un resultado en sí, es un iterable que debe ser pasado por otra función (por ejemplo, ``list``) para ver su ejecución."
   ]
  },
  {
   "cell_type": "code",
   "execution_count": 14,
   "metadata": {},
   "outputs": [
    {
     "data": {
      "text/plain": [
       "[13, 5, 7]"
      ]
     },
     "execution_count": 14,
     "metadata": {},
     "output_type": "execute_result"
    }
   ],
   "source": [
    "list(x)"
   ]
  },
  {
   "attachments": {},
   "cell_type": "markdown",
   "metadata": {},
   "source": [
    "Ejecutar la función ``len`` sobre una cadena de caracteres, devuelve el número de caracteres que componen esa cadena."
   ]
  },
  {
   "attachments": {},
   "cell_type": "markdown",
   "metadata": {},
   "source": [
    "#### Uso\n",
    "- Unir iterables de strings"
   ]
  },
  {
   "cell_type": "code",
   "execution_count": 15,
   "metadata": {},
   "outputs": [
    {
     "data": {
      "text/plain": [
       "['lavavajillas', 'limpiacristales', 'sacacorchos']"
      ]
     },
     "execution_count": 15,
     "metadata": {},
     "output_type": "execute_result"
    }
   ],
   "source": [
    "def unir_strings(a, b):\n",
    "    return a + b\n",
    "\n",
    "y = map(unir_strings, ['lava', 'limpia', 'saca'], ('vajillas', 'cristales', 'corchos'))\n",
    "list(y)"
   ]
  }
 ],
 "metadata": {
  "kernelspec": {
   "display_name": "Python 3",
   "language": "python",
   "name": "python3"
  },
  "language_info": {
   "codemirror_mode": {
    "name": "ipython",
    "version": 3
   },
   "file_extension": ".py",
   "mimetype": "text/x-python",
   "name": "python",
   "nbconvert_exporter": "python",
   "pygments_lexer": "ipython3",
   "version": "3.7.9"
  },
  "orig_nbformat": 4,
  "vscode": {
   "interpreter": {
    "hash": "f2602f62725692c171be4634a254054368e54a417e74eada098f42e0fd72e7fd"
   }
  }
 },
 "nbformat": 4,
 "nbformat_minor": 2
}
