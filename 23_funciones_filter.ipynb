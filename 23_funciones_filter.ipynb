{
 "cells": [
  {
   "attachments": {},
   "cell_type": "markdown",
   "metadata": {},
   "source": [
    "### FUNCIONES ``FILTER``\n",
    "- Concepto\n",
    "- *Ejercicios*"
   ]
  },
  {
   "attachments": {},
   "cell_type": "markdown",
   "metadata": {},
   "source": [
    "#### Concepto\n",
    "- Devuelve un **iterador** en el que los elementos se filtran a través de una función, para comprobar si el elemento es aceptado o no.\n",
    "- Permite filtrar secuencias.\n",
    "- Si la función es ``None``, se asume la función identidad, es decir, se eliminan todos los elementos del iterable que sean falsos.\n",
    "- Sintaxis: ``filter``(``<funcion>``, ``<iterable_elementos>``)"
   ]
  },
  {
   "attachments": {},
   "cell_type": "markdown",
   "metadata": {},
   "source": [
    "#### *Ejercicios*\n",
    "- Filtrar personas mayores de edad. Uso de diccionarios en ``filter``"
   ]
  },
  {
   "cell_type": "code",
   "execution_count": 67,
   "metadata": {},
   "outputs": [
    {
     "name": "stdout",
     "output_type": "stream",
     "text": [
      "18\n",
      "24\n",
      "32\n"
     ]
    }
   ],
   "source": [
    "persona_edad = {'Pablo': 5, 'Nuria': 12, 'Roberto': 17, 'Joaquín': 18, 'Andrea': 24, 'Luis': 32}\n",
    "\n",
    "def obtener_mayor_edad(edad):\n",
    "    if edad < 18:\n",
    "        return False\n",
    "    else:\n",
    "        return True\n",
    "    \n",
    "lista_valores = list(persona_edad.values())\n",
    "\n",
    "adultos = filter(obtener_mayor_edad, lista_valores)\n",
    "\n",
    "for x in adultos:\n",
    "    print(x)"
   ]
  },
  {
   "attachments": {},
   "cell_type": "markdown",
   "metadata": {},
   "source": [
    "Este ejercicio se resuelve mejor usando la función ``lamba``."
   ]
  },
  {
   "cell_type": "code",
   "execution_count": 68,
   "metadata": {},
   "outputs": [
    {
     "data": {
      "text/plain": [
       "['Joaquín', 'Andrea', 'Luis']"
      ]
     },
     "execution_count": 68,
     "metadata": {},
     "output_type": "execute_result"
    }
   ],
   "source": [
    "persona_edad = {'Pablo': 5, 'Nuria': 12, 'Roberto': 17, 'Joaquín': 18, 'Andrea': 24, 'Luis': 32}\n",
    "\n",
    "adultos = filter(lambda x: persona_edad[x] >= 18, persona_edad)\n",
    "\n",
    "list(adultos)"
   ]
  }
 ],
 "metadata": {
  "kernelspec": {
   "display_name": "Python 3",
   "language": "python",
   "name": "python3"
  },
  "language_info": {
   "codemirror_mode": {
    "name": "ipython",
    "version": 3
   },
   "file_extension": ".py",
   "mimetype": "text/x-python",
   "name": "python",
   "nbconvert_exporter": "python",
   "pygments_lexer": "ipython3",
   "version": "3.7.9"
  },
  "orig_nbformat": 4,
  "vscode": {
   "interpreter": {
    "hash": "f2602f62725692c171be4634a254054368e54a417e74eada098f42e0fd72e7fd"
   }
  }
 },
 "nbformat": 4,
 "nbformat_minor": 2
}
