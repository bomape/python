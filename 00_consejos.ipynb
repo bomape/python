{
 "cells": [
  {
   "attachments": {},
   "cell_type": "markdown",
   "metadata": {},
   "source": [
    "### CONSEJOS ÚTILES\n",
    "- Buenas prácticas\n",
    "- *Duck typing*\n",
    "- Pruebas de código (``assert`` y ``unittest``)\n",
    "- Herramientas:\n",
    "    - ``pipenv``\n",
    "    - ***radon***\n",
    "    - ***bandit***\n",
    "    - ***pycodestyle***\n",
    "    - ***black***"
   ]
  },
  {
   "attachments": {},
   "cell_type": "markdown",
   "metadata": {},
   "source": [
    "#### Buenas prácticas\n",
    "- Reglas para escribir un código limpio, legible, mantenible y eficiente.\n",
    "- Facilita la modificación del código y la identificación de errores.\n",
    "1. Utilizar nombres descriptivos de variables y funciones\n",
    "2. Utilizar comentarios explicativos\n",
    "3. Escribir código **modular** y reutilizable (p.e., ver ``funciones_intro.py``)\n",
    "4. Utilizar la **programación orientada a objetos** (clases, objetos, atributos y métodos clarifican la comprensión)\n",
    "5. Utilizar excepciones **indicando el tipo** que corresponde (ver ``excepciones``)\n",
    "6. Escribir pruebas para el código (``assert`` y ``unittest``)\n",
    "7. Utilizar **herramientas de control de versiones** (p.e., Git) para la getión del código fuente y la colaboración entre programadores.\n",
    "8. Utilizar un estilo consistente en el código (**PEP 8** https://peps.python.org/pep-0008/)"
   ]
  },
  {
   "attachments": {},
   "cell_type": "markdown",
   "metadata": {},
   "source": [
    "#### *Duck typing*\n",
    "- Se basa en el principio \"si camina como un pato y suena como un pato, entonces probablemente es un pato\", lo que significa que la identidad **de un objeto** no **importa** tanto como **su comportamiento**.\n",
    "- En otras palabras, si un objeto tiene los métodos y atributos necesarios para hacer lo que se espera que haga, entonces puede ser tratado como si fuera de un tipo particular sin importar su verdadera identidad. Esta es una forma flexible de programar que se usa a menudo en Python.\n",
    "\n",
    "\n",
    "\n"
   ]
  },
  {
   "attachments": {},
   "cell_type": "markdown",
   "metadata": {},
   "source": [
    "En el siguiente ejemplo, se tienen dos clases diferentes: ``Pato`` y ``Perro``.\n",
    "\n",
    "Ambas tienen un método ``hacer_cua()``, cuyo comportamiento es distinto para cada clase. \n",
    "\n",
    "Se define una función ``hacer_algo_con_un_animal`` que trabaja con el método anterior cuando recibe como argumento un objeto de las clases definidas.\n",
    "\n",
    "Con este ejemplo se muestra que da igual si el objeto es un ``Pato`` o un ``Perro``. Lo que importa es que ambas clases tienen un método ``hacer_cua()`` y se pueden tratar de la misma manera dentro de la función ``hacer_algo_con_un_animal``."
   ]
  },
  {
   "cell_type": "code",
   "execution_count": 20,
   "metadata": {},
   "outputs": [
    {
     "name": "stdout",
     "output_type": "stream",
     "text": [
      "Cua cua!\n",
      "Los perros no hacen cua.\n"
     ]
    }
   ],
   "source": [
    "class Pato:\n",
    "    def hacer_cua(self):\n",
    "        print(\"Cua cua!\")\n",
    "\n",
    "class Perro:\n",
    "    def hacer_cua(self):\n",
    "        print(\"Los perros no hacen cua.\")\n",
    "\n",
    "def hacer_algo_con_un_animal(animal):\n",
    "    animal.hacer_cua()\n",
    "\n",
    "pato = Pato()\n",
    "perro = Perro()\n",
    "\n",
    "hacer_algo_con_un_animal(pato)\n",
    "hacer_algo_con_un_animal(perro)"
   ]
  },
  {
   "attachments": {},
   "cell_type": "markdown",
   "metadata": {},
   "source": [
    "#### Pruebas de código (``assert`` y ``unittest``)\n"
   ]
  },
  {
   "attachments": {},
   "cell_type": "markdown",
   "metadata": {},
   "source": [
    "##### ``assert``\n",
    "- Permite realizar verificaciones de seguridad durante el desarrollo y la depuración de programas, para asegurar que el estado del programa es correcto\n",
    "- ***Sintaxis***: ``assert <expresion>, <mensaje>``\n",
    "- La ``<expresion>`` que le sigue debe ser una afirmación que se espera que sea verdadera, y el ``<mensaje>`` (opcional) proporciona información adicional sobre la causa de la excepción.\n",
    "- Si la expresión es verdadera, el programa continúa su ejecución normalmente. Si es falsa, se lanza una excepción de tipo ``AssertionError`` con el mensaje especificado o uno por defecto."
   ]
  },
  {
   "cell_type": "code",
   "execution_count": 19,
   "metadata": {},
   "outputs": [
    {
     "ename": "AssertionError",
     "evalue": "El divisor no puede ser nulo.",
     "output_type": "error",
     "traceback": [
      "\u001b[1;31m---------------------------------------------------------------------------\u001b[0m",
      "\u001b[1;31mAssertionError\u001b[0m                            Traceback (most recent call last)",
      "Cell \u001b[1;32mIn[19], line 7\u001b[0m\n\u001b[0;32m      5\u001b[0m dividendo \u001b[39m=\u001b[39m \u001b[39m10\u001b[39m\n\u001b[0;32m      6\u001b[0m divisor \u001b[39m=\u001b[39m \u001b[39m-\u001b[39m\u001b[39m0\u001b[39m\n\u001b[1;32m----> 7\u001b[0m dividir(dividendo, divisor)\n",
      "Cell \u001b[1;32mIn[19], line 2\u001b[0m, in \u001b[0;36mdividir\u001b[1;34m(dividendo, divisor)\u001b[0m\n\u001b[0;32m      1\u001b[0m \u001b[39mdef\u001b[39;00m \u001b[39mdividir\u001b[39m(dividendo, divisor):\n\u001b[1;32m----> 2\u001b[0m     \u001b[39massert\u001b[39;00m divisor \u001b[39m>\u001b[39m \u001b[39m0\u001b[39m \u001b[39mor\u001b[39;00m divisor \u001b[39m<\u001b[39m \u001b[39m0\u001b[39m, \u001b[39m\"\u001b[39m\u001b[39mEl divisor no puede ser nulo.\u001b[39m\u001b[39m\"\u001b[39m\n\u001b[0;32m      3\u001b[0m     \u001b[39mreturn\u001b[39;00m dividendo \u001b[39m/\u001b[39m divisor\n",
      "\u001b[1;31mAssertionError\u001b[0m: El divisor no puede ser nulo."
     ]
    }
   ],
   "source": [
    "def dividir(dividendo, divisor):\n",
    "    assert divisor > 0 or divisor < 0, \"El divisor no puede ser nulo.\"\n",
    "    return dividendo / divisor\n",
    "\n",
    "dividendo = 10\n",
    "divisor = -0\n",
    "dividir(dividendo, divisor)"
   ]
  },
  {
   "attachments": {},
   "cell_type": "markdown",
   "metadata": {},
   "source": [
    "##### ``unittest``\n",
    "- Facilita el uso de implementación de pruebas unitarias y de integración que, manualmente, son complejas de hacer.\n",
    "- Conviene su uso para evitar fallos en líneas avanzadas del proyecto.\n",
    "- Este tipo de pruebas se deben hacer en archivos ``.py``"
   ]
  },
  {
   "attachments": {},
   "cell_type": "markdown",
   "metadata": {},
   "source": [
    "A continuación se muestra un ejemplo, con la implementación de cómo sería el archivo ``.py`` al final del enunciado. \n",
    "\n",
    "Ejemplo: se quiere evaluar la función ``sumar(a,b)``. Para ello, es necesario importar la librería ``unittest`` y crear una clase cuyos métodos harán pruebas sobre esta función. Esta clase (``TestSuma``) es heredera de ``unittest.TestCase``  y contiene los métodos de prueba (``test_suma``) que se quieren comprobar. Dicho método se define a su vez mediante el método ``assertEqual``  heredado de ``unittest.TestCase`` que evalúa si el resultado de su primer argumento coincide con el valor del segundo argumento. En caso contrario, la prueba falla.\n",
    "El código completo que ejecuta las pruebas en un archivo ``.py`` sería:"
   ]
  },
  {
   "cell_type": "code",
   "execution_count": 10,
   "metadata": {},
   "outputs": [],
   "source": [
    "import unittest\n",
    "\n",
    "def sumar(a, b):\n",
    "    return a + b\n",
    "\n",
    "class TestSuma(unittest.TestCase):\n",
    "    def test_suma(self):\n",
    "        self.assertEqual(sumar(2, 2), 4)\n",
    "        self.assertEqual(sumar(-2, 2), 0)\n",
    "        self.assertEqual(sumar(0, 0), 0)\n",
    "\n",
    "if __name__ == '__main__':\n",
    "    unittest.main()"
   ]
  },
  {
   "attachments": {},
   "cell_type": "markdown",
   "metadata": {},
   "source": [
    "#### Herramientas"
   ]
  },
  {
   "attachments": {},
   "cell_type": "markdown",
   "metadata": {},
   "source": [
    "##### **``pipenv``**\n",
    "- https://pipenv.pypa.io/en/latest/\n",
    "\n",
    "**Instalación de ``pipenv``**\n",
    "\n",
    "1. Abrir terminal en Visual Code o el entorno utilizado (preferiblemente CMD en Windows) por si el ordenador tiene bloqueado la ejecución de scripts en la PowerShell.\n",
    "\n",
    "2. Ir a la raíz/carpeta/directorio del proyecto.\n",
    "\n",
    "3. Instalar pipenv según ``pip install pipenv``.\n",
    "\n",
    "4. Incluir en el PATH (Editar las variables de entorno del sistema) la carpeta raíz de binarios:\n",
    "    - ``py -m site --user-site``\n",
    "    - El directorio que retorne, reemplazar ``site-packages`` con ``Scripts``\n",
    "    - Debe quedar algo como: C:\\Users\\user_name\\AppData\\Roaming\\Python\\Python38\\Scripts\n",
    "    - \n",
    "    \n",
    "5. Reiniciar ordenador\n",
    "\n",
    "**Trabajar con ``pipenv``**\n",
    "\n",
    "Cualquier línea que comience por ``$`` significa que va escrita en una Shell (p.e., ``$ exit`` significa que en la consola solamente se pone 'exit'; la '$' se omite)\n",
    "\n",
    "1. Activar el entorno virtual en la raíz del proyecto:\n",
    "\n",
    "    ``$ pipenv Shell``\n",
    "\n",
    "    - Se genera dos archivos en la raíz del proyecto:\n",
    "        - 'Pipfile': contiene info resumida de lo que necesita el proyecto. Es modificable, se pueden añadir las librerías necesarias con la versión deseada. \n",
    "        En la parte de '[packages]' se ponen las librerías realmente necesarias del proyecto, mientras que en '[dev-packages]' se ponen aquellas utilizadas durante el desarrollo De esta forma, cuando se despliega el proyecto, el entorno virtual únicamente instala las primeras librerías.\n",
    "        - 'Pipfile.lock': contiene info detallada de cómo funciona el proyecto. No modificar.\n",
    "    - El entorno virtual se crea en otro directorio del ordenador (C:\\Users\\user_name\\.virtualenvs)\n",
    "\n",
    "2. Para desactivarlo:\n",
    "\n",
    "    ``$ exit``\n",
    "\n",
    "3. Comandos útiles:\n",
    "\n",
    "    - Mostrar los comandos y opciones de pipenv\n",
    "\n",
    "        ``$ pipenv``  ó  ``$ pipenv -h(--help)``\n",
    "    \n",
    "    - Ayuda específica de un comando. Todos los comandos tienen el 'flag' de ayuda.\n",
    "\n",
    "        ``$ pipenv <comando> -h(--help)`` \n",
    "\n",
    "    - Instalar nuevas dependencias modificadas una vez creado el entorno virtual.\n",
    "\n",
    "        ``$ pipenv install``\n",
    "\n",
    "    - O también, si se especifican las dependencias en un 'requirements.txt':\n",
    "\n",
    "        ``$ pipenv install -r requirements.txt``\n",
    "\n",
    "    - Para ver las dependencias de cada paquete\n",
    "\n",
    "        ``$ pipenv graph``\n",
    "\n",
    "    - Comprobar que la versión de pipenv es segura\n",
    "\n",
    "        ``$ pipenv check``\n",
    "\n",
    "    - Desplegar el proyecto una vez acabado o actualizar el registro del desarrollo\n",
    "\n",
    "        ``$ pipenv lock``\n",
    "\n",
    "**Instalación de paquetes en el entorno virtual**\n",
    "1. Instalar los paquetes necesarios de un *pipfile*\n",
    "\n",
    "    ``$ pipenv sync``\n",
    "2. Instalar los paquetes necesarios y no necesarios de un *pipfile*\n",
    "\n",
    "    ``$ pipenv sync -d(--dev)``\n",
    "3. Instalar paquete necesario para la aplicación y actualizar (o crea si no lo hay) *pipfile*\n",
    "\n",
    "    ``$ pipenv install <nombre_del_paquete>``\n",
    "4. Instalar paquete **NO necesario** para la aplicación (solo para el desarrollo) y actualizar (o crea si no lo hay) *pipfile*\n",
    "\n",
    "    ``$ pipenv install <nombre_del_paquete> -d(--dev)``\n",
    "5. **Desinstalar** un paquete y actualizar *pipfile*\n",
    "\n",
    "    ``$ pipenv uninstall <nombre_del_paquete>``\n",
    "6. Verificar que no existe paquete con vulnerabilidad\n",
    "\n",
    "    ``$ pipenv check --quiet``"
   ]
  },
  {
   "attachments": {},
   "cell_type": "markdown",
   "metadata": {},
   "source": [
    "##### ***radon***\n",
    "- Herramienta de Python que calcula varias métricas de código. \n",
    "    - Métricas sin procesar: SLOC, líneas de comentarios, líneas en blanco, etc.\n",
    "    - Complejidad ciclomática.\n",
    "    - Métricas de Halstead\n",
    "    - El índice de mantenibilidad\n",
    "- https://radon.readthedocs.io/en/latest\n",
    "- Guía de comandos y rangos: https://radon.readthedocs.io/en/latest/commandline.html#radon-configuration-files\n",
    "\n",
    "1. Instalar en un entorno virtual como paquete no necesario\n",
    "\n",
    "    ``$ pipenv install --dev radon``\n",
    "2. Ver la *complejidad métrica*\n",
    "\n",
    "    ``$ radon cc -s file.py``\n",
    "3. Ver el *índice de mantenibilidad*\n",
    "\n",
    "    ``$ radon mi -s file.py``\n",
    "\n",
    "    Si se tienen muchas líneas de comentarios sería interesante utilizar \n",
    "\n",
    "    ``$ radon mi -s multi file.py``\n",
    "4. Ver *datos en bruto* del código (líneas de código, líneas lógicas, líneas de comentarios...)\n",
    "\n",
    "    ``$ radon raw -s file.py``\n",
    "5. Ver las *métricas de complejidad*\n",
    "\n",
    "    ``$ radon hal file.py``\n",
    "\n",
    "    Si se tienen muchos métodos que quieren tenerse separados\n",
    "\n",
    "    ``$ radon hal -f file.py``\n"
   ]
  },
  {
   "attachments": {},
   "cell_type": "markdown",
   "metadata": {},
   "source": [
    "##### ***bandit***\n",
    "- Herramienta diseñada para **encontrar problemas de seguridad** comunes en el código de Python.\n",
    "- https://pypi.org/project/bandit/ \n",
    "- Guía de comandos: https://bandit.readthedocs.io/en/latest/\n",
    "\n",
    "1. Instalar en un entorno virtual como paquete no necesario\n",
    "\n",
    "    ``$ pipenv install --dev bandit``\n",
    "2. Comprobar un archivo\n",
    "\n",
    "    ``$ bandit file.py``\n",
    "3. Comprobar un proyecto\n",
    "\n",
    "    ``$ bandit -r <directorio>/``\n",
    "\n"
   ]
  },
  {
   "attachments": {},
   "cell_type": "markdown",
   "metadata": {},
   "source": [
    "##### ***pycodestyle***\n",
    "- Herramienta para comparar su código Python con algunas de las convenciones de estilo en PEP8.\n",
    "- https://pypi.org/project/pycodestyle/\n",
    "- Guía de comandos y rangos: https://pycodestyle.pycqa.org/en/latest/\n",
    "\n",
    "1. Instalar en un entorno virtual como paquete no necesario\n",
    "\n",
    "    ``$ pipenv install --dev pycodestyle``\n",
    "2. Comprobar los cambios que sufrirá un archivo\n",
    "\n",
    "    ``$ pycodestyle file.py``\n",
    "3. Por defecto, reformatea en dos líneas aquellas con muchos caracteres. Se puede reconfigurar según:\n",
    "\n",
    "    ``$ pycodestyle --max-line-lenght=<n>``\n",
    "\n",
    "    Donde ``<n>`` es un número entero de caracteres por línea. Lo normal es poner ``<n>=79``, puesto que es lo estipulado por PEP8 como convenio y ``pycodestyle`` avisará de ello. \n",
    "\n",
    "4. Para más info del punto 2., se puede obtener un reporte sobre lo que está mal\n",
    "\n",
    "    ``$ pycodestyle --show-pep8 file.py``"
   ]
  },
  {
   "attachments": {},
   "cell_type": "markdown",
   "metadata": {},
   "source": [
    "##### ***black***\n",
    "- Es el formateador de código Python. \n",
    "- Ideal para **usarlo con pycodestyle**, pues te reformatea tu código Python siguiendo la PEP8.\n",
    "- https://pypi.org/project/black/\n",
    "- Guía de comandos y rangos: https://black.readthedocs.io/en/stable/\n",
    "\n",
    "1. Instalar en un entorno virtual como paquete no necesario\n",
    "\n",
    "    ``$ pipenv install --dev black``\n",
    "2. Comprobar los cambios que sufrirá un archivo\n",
    "\n",
    "    ``$ black --diff --color file.py``\n",
    "3. Por defecto, reformatea en dos líneas aquellas con muchos caracteres. Se puede reconfigurar según:\n",
    "\n",
    "    ``$ black --line-length <n>``\n",
    "\n",
    "    Aunque se puede modificar, es conveniente que ``black`` y ``pydecodestyle`` coincidan.\n",
    "\n",
    "    "
   ]
  }
 ],
 "metadata": {
  "kernelspec": {
   "display_name": "Python 3",
   "language": "python",
   "name": "python3"
  },
  "language_info": {
   "codemirror_mode": {
    "name": "ipython",
    "version": 3
   },
   "file_extension": ".py",
   "mimetype": "text/x-python",
   "name": "python",
   "nbconvert_exporter": "python",
   "pygments_lexer": "ipython3",
   "version": "3.11.2"
  },
  "orig_nbformat": 4
 },
 "nbformat": 4,
 "nbformat_minor": 2
}
