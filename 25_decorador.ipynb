{
 "cells": [
  {
   "attachments": {},
   "cell_type": "markdown",
   "metadata": {},
   "source": [
    "### DECORADOR\n",
    "- Concepto\n",
    "- Uso como función\n",
    "- Uso de ``@``"
   ]
  },
  {
   "attachments": {},
   "cell_type": "markdown",
   "metadata": {},
   "source": [
    "#### Concepto\n",
    "- Es una herramienta de Python que permite modificar el comportamiento de funciones y clases.\n",
    "- Viene a ser algo así como la introducción de funciones como argumentos de otras funciones.\n",
    "- Son útiles cuando quiero modificar el comportamiento de funciones que están definidas en python, ya que no vamos a modificar el código fuente de la función, pero sí podemos modificar su comportamiento mediante decoradores.\n"
   ]
  },
  {
   "attachments": {},
   "cell_type": "markdown",
   "metadata": {},
   "source": [
    "#### Uso\n",
    "- Definiendo el decorador como una función.\n",
    "- En el siguiente ejemplo ``wrapper`` es una buena muestra del uso de **closures**, envolviendo ciertas funciones (``funcion_argumento``). Realiza operaciones previas a la llamada de la función que envuelve, y luego puede seguir trabajando con los resultados de dicha función. De ahí la utilidad de los closures.  "
   ]
  },
  {
   "cell_type": "code",
   "execution_count": 8,
   "metadata": {},
   "outputs": [],
   "source": [
    "def mi_decorador(funcion_argumento):\n",
    "    \"\"\" Decorador definido como una funcion que recibe como argumento otra funcion. \"\"\"\n",
    "    def wrapper():\n",
    "        \"\"\"  \"\"\"\n",
    "        print('antes de llamar a la funcion argumento')\n",
    "        funcion_argumento()\n",
    "        print('despues de llamar a la funcion argumento')\n",
    "    return wrapper"
   ]
  },
  {
   "attachments": {},
   "cell_type": "markdown",
   "metadata": {},
   "source": [
    "Se necesita una función que sea el argumento de ``mi_decorador``"
   ]
  },
  {
   "cell_type": "code",
   "execution_count": 9,
   "metadata": {},
   "outputs": [
    {
     "name": "stdout",
     "output_type": "stream",
     "text": [
      "El resultado del decorador es: <function mi_decorador.<locals>.wrapper at 0x000001FE967575E8>\n",
      "Su ejecución:\n",
      "antes de llamar a la funcion argumento\n",
      "Olé!!\n",
      "despues de llamar a la funcion argumento\n"
     ]
    }
   ],
   "source": [
    "def di_ole():\n",
    "    print('Olé!!')\n",
    "\n",
    "ole = mi_decorador(di_ole)\n",
    "\n",
    "print('El resultado del decorador es:', ole)\n",
    "print('Su ejecución:')\n",
    "ole()"
   ]
  },
  {
   "attachments": {},
   "cell_type": "markdown",
   "metadata": {},
   "source": [
    "#### Uso de ``@``\n",
    "- Facilita mucho la sintaxis.\n",
    "- Permite identificar con mayor facilidad el uso de decoradores en el código.\n",
    "- Omito el paso de definir la línea  ``ole = mi_decorador(di_ole)`` y luego ejecutar ``ole()``"
   ]
  },
  {
   "cell_type": "code",
   "execution_count": 10,
   "metadata": {},
   "outputs": [
    {
     "name": "stdout",
     "output_type": "stream",
     "text": [
      "antes de llamar a la funcion argumento\n",
      "Olé!!\n",
      "despues de llamar a la funcion argumento\n"
     ]
    }
   ],
   "source": [
    "@mi_decorador\n",
    "def di_ole():\n",
    "    print('Olé!!')\n",
    "di_ole()"
   ]
  }
 ],
 "metadata": {
  "kernelspec": {
   "display_name": "Python 3",
   "language": "python",
   "name": "python3"
  },
  "language_info": {
   "codemirror_mode": {
    "name": "ipython",
    "version": 3
   },
   "file_extension": ".py",
   "mimetype": "text/x-python",
   "name": "python",
   "nbconvert_exporter": "python",
   "pygments_lexer": "ipython3",
   "version": "3.7.9"
  },
  "orig_nbformat": 4,
  "vscode": {
   "interpreter": {
    "hash": "f2602f62725692c171be4634a254054368e54a417e74eada098f42e0fd72e7fd"
   }
  }
 },
 "nbformat": 4,
 "nbformat_minor": 2
}
