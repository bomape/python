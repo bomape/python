{
 "cells": [
  {
   "attachments": {},
   "cell_type": "markdown",
   "metadata": {},
   "source": [
    "### STRINGS: Cadenas de caracteres\n",
    "- Cadenas de caracteres.\n",
    "- Operaciones sobre strings (``str``, ``count``, ``isalpha``/``isdigit``, ``upper``/``lower``, ``strip``, ``split``, ``join``)\n",
    "- Operaciones entre strings (concatenar ``+``, repeticion ``*`` y lógicas ``<``, ``>``)\n",
    "- Funciones a nivel de carácter (``ord`` y ``char``)\n",
    "- Slices (``<secuencia>[:]``)"
   ]
  },
  {
   "attachments": {},
   "cell_type": "markdown",
   "metadata": {},
   "source": [
    "#### CADENAS DE CARACTERES\n",
    "- A efectos prácticos son iguales que las tuplas\n",
    "- Representadas internamente como una secuencia de bytes unicode, por lo que **aceptan cualquier carácter unicode**."
   ]
  },
  {
   "cell_type": "code",
   "execution_count": 83,
   "metadata": {},
   "outputs": [
    {
     "name": "stdout",
     "output_type": "stream",
     "text": [
      "Cadena de caracteres con comillas dobles\n",
      "Cadena de caracteres con comillas simples\n",
      "Cadena con comillas \"anidadas\" en su contenido\n",
      " Cadena\n",
      "multilínea\n",
      "Bonus:,separar cadenas con espacio,las concatena\n"
     ]
    }
   ],
   "source": [
    "print(\"Cadena de caracteres con comillas dobles\")\n",
    "print('Cadena de caracteres con comillas simples')\n",
    "print('Cadena con comillas \"anidadas\" en su contenido')\n",
    "print(\"\"\" Cadena\n",
    "multilínea\"\"\")\n",
    "print('Bonus:' ',separar cadenas con espacio,' 'las concatena')"
   ]
  },
  {
   "attachments": {},
   "cell_type": "markdown",
   "metadata": {},
   "source": [
    "#### OPERACIONES BÁSICAS SOBRE STRINGS\n",
    "``str``: crea una cadena del objeto indicado"
   ]
  },
  {
   "cell_type": "code",
   "execution_count": 84,
   "metadata": {},
   "outputs": [
    {
     "data": {
      "text/plain": [
       "'(1, 2, 3, 4, 5)'"
      ]
     },
     "execution_count": 84,
     "metadata": {},
     "output_type": "execute_result"
    }
   ],
   "source": [
    "str((1,2,3,4,5))"
   ]
  },
  {
   "attachments": {},
   "cell_type": "markdown",
   "metadata": {},
   "source": [
    "``<cadena>.count``: devuelve el numero de apariciones **no solapadas** de una subcadena"
   ]
  },
  {
   "cell_type": "code",
   "execution_count": 85,
   "metadata": {},
   "outputs": [
    {
     "name": "stdout",
     "output_type": "stream",
     "text": [
      "2\n",
      "3\n"
     ]
    }
   ],
   "source": [
    "print('baba yagá'.count('ba'))\n",
    "print('baba yagá'.count('a'))"
   ]
  },
  {
   "attachments": {},
   "cell_type": "markdown",
   "metadata": {},
   "source": [
    "``<cadena>.isalpha()`` / ``<cadena>.isdigit()``: booleano que indica si **todos** los caracteres de la cadena son alfabéticos o numéricos"
   ]
  },
  {
   "cell_type": "code",
   "execution_count": 86,
   "metadata": {},
   "outputs": [
    {
     "name": "stdout",
     "output_type": "stream",
     "text": [
      "True False\n",
      "False True\n"
     ]
    }
   ],
   "source": [
    "cadena_alpha = 'alfabetico'\n",
    "cadena_numer = '41596132'\n",
    "print(cadena_alpha.isalpha(), cadena_alpha.isdigit())\n",
    "print(cadena_numer.isalpha(), cadena_numer.isdigit())"
   ]
  },
  {
   "attachments": {},
   "cell_type": "markdown",
   "metadata": {},
   "source": [
    "``<cadena>.upper()`` / ``<cadena>.lower()``: crea una copia de la cadena en mayúscula o minúscula"
   ]
  },
  {
   "cell_type": "code",
   "execution_count": 87,
   "metadata": {},
   "outputs": [
    {
     "name": "stdout",
     "output_type": "stream",
     "text": [
      "TUTTI FRUTTI\n",
      "tutti frutti\n"
     ]
    }
   ],
   "source": [
    "cadena = 'Tutti frutti'\n",
    "print(cadena.upper())\n",
    "print(cadena.lower())"
   ]
  },
  {
   "attachments": {},
   "cell_type": "markdown",
   "metadata": {},
   "source": [
    "``<cadena>.strip()``: devuelve una copia de la cadena **eliminando los espacios (chars) del principio/final**"
   ]
  },
  {
   "cell_type": "code",
   "execution_count": 88,
   "metadata": {},
   "outputs": [
    {
     "data": {
      "text/plain": [
       "'espaciado  quitado'"
      ]
     },
     "execution_count": 88,
     "metadata": {},
     "output_type": "execute_result"
    }
   ],
   "source": [
    "'      espaciado  quitado '.strip()"
   ]
  },
  {
   "attachments": {},
   "cell_type": "markdown",
   "metadata": {},
   "source": [
    "``<cadena>.split()``: crea una lista con los caraceteres de la cadena separados por un separador. Si no se especifica, por defecto el separador es un char"
   ]
  },
  {
   "cell_type": "code",
   "execution_count": 89,
   "metadata": {},
   "outputs": [
    {
     "name": "stdout",
     "output_type": "stream",
     "text": [
      "['1', '2', '3', '4'] <class 'list'>\n",
      "['1', '2', '3', '4'] <class 'list'>\n"
     ]
    }
   ],
   "source": [
    "cadena_char = '1 2 3 4'\n",
    "secuencia = cadena_char.split()\n",
    "print(secuencia, type(secuencia)) \n",
    "cadena_barr = '1|2|3|4'\n",
    "secuencia = cadena_barr.split('|')  # hay que indicar cuál es el separador\n",
    "print(secuencia, type(secuencia))"
   ]
  },
  {
   "attachments": {},
   "cell_type": "markdown",
   "metadata": {},
   "source": [
    "``<cadena>.join``: hace el paso inverso a split. Parte de una secuencia y convierte sus elementos en una cadena de caracteres"
   ]
  },
  {
   "cell_type": "code",
   "execution_count": 90,
   "metadata": {},
   "outputs": [
    {
     "data": {
      "text/plain": [
       "('1, char_2, 3, char_4', str)"
      ]
     },
     "execution_count": 90,
     "metadata": {},
     "output_type": "execute_result"
    }
   ],
   "source": [
    "secuencia = ('1','char_2','3','char_4')\n",
    "cadena = ', '.join(secuencia)    # hay que indicar qué separador los une, normalmente comas y espacios \n",
    "cadena, type(cadena)"
   ]
  },
  {
   "attachments": {},
   "cell_type": "markdown",
   "metadata": {},
   "source": [
    "#### OPERACIONES ENTRE STRINGS\n",
    "Estas operaciones devuelven una nueva cadena.\n",
    "- Concatenación (``+``)\n",
    "- Repetición (``*``)\n",
    "- Lógicas (``<``, ``>``): Comparan los valores numéricos de los caracteres, que están ordenados lexicográficamente."
   ]
  },
  {
   "cell_type": "code",
   "execution_count": 91,
   "metadata": {},
   "outputs": [
    {
     "name": "stdout",
     "output_type": "stream",
     "text": [
      "holaholahola y adios\n",
      "False True\n"
     ]
    }
   ],
   "source": [
    "saludo = 'hola'\n",
    "despedida = \" y adios\"\n",
    "total = 3*saludo + despedida\n",
    "print(total)\n",
    "print(saludo > total, saludo > despedida)"
   ]
  },
  {
   "attachments": {},
   "cell_type": "markdown",
   "metadata": {},
   "source": [
    "#### FUNCIONES A NIVEL DE CARÁCTER\n",
    "- ``ord(c)``: devuelve la representación numérica del carácter *c*\n",
    "- ``char(n)``: devuelve el caracter de la representación numérica *n*"
   ]
  },
  {
   "cell_type": "code",
   "execution_count": 92,
   "metadata": {},
   "outputs": [
    {
     "data": {
      "text/plain": [
       "(104, 32, '🐍')"
      ]
     },
     "execution_count": 92,
     "metadata": {},
     "output_type": "execute_result"
    }
   ],
   "source": [
    "ord('h'), ord(' '), chr(128013)"
   ]
  },
  {
   "attachments": {},
   "cell_type": "markdown",
   "metadata": {},
   "source": [
    "Por eso, antes daba que ``saludo`` es mayor que ``despedida``, porque ``'h'`` es mayor que ``' '`` (104 > 32)"
   ]
  },
  {
   "attachments": {},
   "cell_type": "markdown",
   "metadata": {},
   "source": [
    "##### SLICE\n",
    "Operación mediante la cual se extraen elementos de una secuencia.\n",
    "- Notación: ``secuencia[<start>:<stop>:<step>]``\n",
    "- Estos tres valores son opcionales y pueden ser negativos\n",
    "- Se generan copias, por lo que los cambios sobre el *slice* **no alteran al objeto original**"
   ]
  },
  {
   "cell_type": "code",
   "execution_count": 93,
   "metadata": {},
   "outputs": [
    {
     "name": "stdout",
     "output_type": "stream",
     "text": [
      "a [1, 3, 5]\n",
      "b [9, 7, 5]\n",
      "c [1, 2, 3, 4, 5, 6]\n",
      "d [0, 1, 2, 3, 4, 5, 6, 7, 8, 9]\n",
      "e [0, 1, 2, 3, 4, 5, 6, 7]\n",
      "f [0, 3, 6, 9]\n"
     ]
    }
   ],
   "source": [
    "l = [0, 1, 2, 3, 4, 5, 6, 7, 8, 9]\n",
    "print('a', l[1:7:2])\n",
    "print('b', l[-1:-7:-2])  # -1 (empieza desde el 9) : -7 (termina en el 3, sin incluir) : -2 (recorrido inverso de 2 en 2)\n",
    "print('c', l[1:7])\n",
    "print('d', l[:])\n",
    "print('e', l[:-2])\n",
    "print('f', l[::3])   # todos los elementos desde el principio hasta el final con un step = 3"
   ]
  },
  {
   "attachments": {},
   "cell_type": "markdown",
   "metadata": {},
   "source": [
    "##### USOS TÍPICOS\n",
    "- Copiar una cadena o secuencia\n",
    "- Invertir una cadena o secuencia\n",
    "- Modificar una lista"
   ]
  },
  {
   "cell_type": "code",
   "execution_count": 94,
   "metadata": {},
   "outputs": [
    {
     "name": "stdout",
     "output_type": "stream",
     "text": [
      "War does not determine who is right; only who is left\n",
      "tfel si ohw ylno ;thgir si ohw enimreted ton seod raW\n",
      "[9, 6, 3, 0]\n"
     ]
    }
   ],
   "source": [
    "secuencia = 'War does not determine who is right; only who is left'\n",
    "copia = secuencia[:]\n",
    "inversion = secuencia[::-1]\n",
    "print(copia)\n",
    "print(inversion)\n",
    "print(l[::-3])\n"
   ]
  },
  {
   "cell_type": "code",
   "execution_count": 95,
   "metadata": {},
   "outputs": [
    {
     "name": "stdout",
     "output_type": "stream",
     "text": [
      "[0, 1, 2, 99, 99, 99, 99, 7, 8, 9]\n",
      "[0, 1, 2, 99, 99, 42]\n",
      "[24, 42]\n"
     ]
    }
   ],
   "source": [
    "l[3:7] = [99, 99, 99, 99]\n",
    "print(l)\n",
    "l[5:] = [42]\n",
    "print(l)\n",
    "l[:5] = [24]\n",
    "print(l)"
   ]
  }
 ],
 "metadata": {
  "kernelspec": {
   "display_name": "base",
   "language": "python",
   "name": "python3"
  },
  "language_info": {
   "codemirror_mode": {
    "name": "ipython",
    "version": 3
   },
   "file_extension": ".py",
   "mimetype": "text/x-python",
   "name": "python",
   "nbconvert_exporter": "python",
   "pygments_lexer": "ipython3",
   "version": "3.11.2"
  },
  "orig_nbformat": 4
 },
 "nbformat": 4,
 "nbformat_minor": 2
}
