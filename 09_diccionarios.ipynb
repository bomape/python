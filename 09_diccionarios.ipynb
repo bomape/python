{
 "cells": [
  {
   "attachments": {},
   "cell_type": "markdown",
   "metadata": {},
   "source": [
    "### DICCIONARIOS\n",
    "- Concepto\n",
    "- Acceso a elementos (``get``, ``keys``, ``values``, ``update``)\n",
    "- Operaciones con diccionarios (``in``/``not in`` , ``del``, ``clear``)"
   ]
  },
  {
   "attachments": {},
   "cell_type": "markdown",
   "metadata": {},
   "source": [
    "#### CONCEPTO\n",
    "- Colecciones **ordenadas** de pares key-value donde las **key son únicas**\n",
    "- Se definen segun:\n",
    "    - ``{key1: value1, key2: value2}``: es la forma más cómoda y común\n",
    "    - ``dict(([key1,value1], [key2,value2]))``: util si los pares key-value vienen en listas\n",
    "    - ``dict(key_alpha = value)``: solo valida para keys que **no** empiece por (o sean) numeros\n",
    "- Un diccionario vacío se crea con ``{}`` o ``dict()``"
   ]
  },
  {
   "cell_type": "code",
   "execution_count": 9,
   "metadata": {},
   "outputs": [
    {
     "name": "stdout",
     "output_type": "stream",
     "text": [
      "{1: 'uno', 'dos': 2}\n",
      "{1: 'uno', 'dos': 2}\n",
      "{'uno': 1, 'dos': 2}\n"
     ]
    }
   ],
   "source": [
    "d1 = {1: 'uno', 'dos': 2}\n",
    "d2 = dict(([1,'uno'], ['dos', 2]))\n",
    "d3 = dict(uno=1, dos= 2)\n",
    "print(d1)\n",
    "print(d2)\n",
    "print(d3)"
   ]
  },
  {
   "cell_type": "code",
   "execution_count": 10,
   "metadata": {},
   "outputs": [
    {
     "ename": "SyntaxError",
     "evalue": "expression cannot contain assignment, perhaps you meant \"==\"? (734586691.py, line 1)",
     "output_type": "error",
     "traceback": [
      "\u001b[1;36m  Cell \u001b[1;32mIn[10], line 1\u001b[1;36m\u001b[0m\n\u001b[1;33m    d4 = dict(1='uno', 2='dos')\u001b[0m\n\u001b[1;37m              ^\u001b[0m\n\u001b[1;31mSyntaxError\u001b[0m\u001b[1;31m:\u001b[0m expression cannot contain assignment, perhaps you meant \"==\"?\n"
     ]
    }
   ],
   "source": [
    "d4 = dict(1='uno', 2='dos')"
   ]
  },
  {
   "attachments": {},
   "cell_type": "markdown",
   "metadata": {},
   "source": [
    "#### ACCESO A ELEMENTOS\n",
    "- En los diccionarios no se trabajan con *slices* ya que no son secuencias.\n",
    "- Se utilizan los ``key`` como si fueran índices de una lista/tupla"
   ]
  },
  {
   "cell_type": "code",
   "execution_count": 11,
   "metadata": {},
   "outputs": [
    {
     "data": {
      "text/plain": [
       "1"
      ]
     },
     "execution_count": 11,
     "metadata": {},
     "output_type": "execute_result"
    }
   ],
   "source": [
    "d3['uno']"
   ]
  },
  {
   "attachments": {},
   "cell_type": "markdown",
   "metadata": {},
   "source": [
    "##### ``get``\n",
    "Muestra el valor de una clave concreta. Si no existe imprime ``None``, a no ser que se indique una alternativa"
   ]
  },
  {
   "cell_type": "code",
   "execution_count": 12,
   "metadata": {},
   "outputs": [
    {
     "name": "stdout",
     "output_type": "stream",
     "text": [
      "None\n"
     ]
    }
   ],
   "source": [
    "print(d1.get('tres'))"
   ]
  },
  {
   "cell_type": "code",
   "execution_count": 13,
   "metadata": {},
   "outputs": [
    {
     "data": {
      "text/plain": [
       "'no existe este key'"
      ]
     },
     "execution_count": 13,
     "metadata": {},
     "output_type": "execute_result"
    }
   ],
   "source": [
    "d1.get('tres', 'no existe este key')"
   ]
  },
  {
   "attachments": {},
   "cell_type": "markdown",
   "metadata": {},
   "source": [
    "##### ``keys`` y ``values``\n",
    "- ``keys``: devuelve un *dict_keys* con las claves del diccionario\n",
    "- ``values``: devuelve un *dict_values* con los valores del diccionario"
   ]
  },
  {
   "cell_type": "code",
   "execution_count": 14,
   "metadata": {},
   "outputs": [
    {
     "name": "stdout",
     "output_type": "stream",
     "text": [
      "dict_keys(['tuberia', 'enchufe', 'grifo']) <class 'dict_keys'>\n",
      "dict_values(['rota', 'roto', 'roto']) <class 'dict_values'>\n"
     ]
    }
   ],
   "source": [
    "estado = {\n",
    "    \"tuberia\": \"rota\",\n",
    "    \"enchufe\":\"roto\",\n",
    "    \"grifo\":\"roto\"\n",
    "}\n",
    "print(estado.keys(), type(estado.keys()))\n",
    "print(estado.values(), type(estado.values()))"
   ]
  },
  {
   "attachments": {},
   "cell_type": "markdown",
   "metadata": {},
   "source": [
    "##### ``update``\n",
    "- **Modifica** el contenido de un diccionario actualizándolo con otro diccionario"
   ]
  },
  {
   "cell_type": "code",
   "execution_count": 15,
   "metadata": {},
   "outputs": [
    {
     "data": {
      "text/plain": [
       "{'tuberia': 'arreglado',\n",
       " 'enchufe': 'roto',\n",
       " 'grifo': 'en progreso',\n",
       " 'trabajador': 'Juan'}"
      ]
     },
     "execution_count": 15,
     "metadata": {},
     "output_type": "execute_result"
    }
   ],
   "source": [
    "fontanero = {\n",
    "    \"trabajador\": \"Juan\",\n",
    "    \"tuberia\":\"arreglado\",\n",
    "    \"grifo\":\"en progreso\"\n",
    "}\n",
    "estado.update(fontanero)\n",
    "estado"
   ]
  },
  {
   "attachments": {},
   "cell_type": "markdown",
   "metadata": {},
   "source": [
    "#### OPERACIONES CON DICCIONARIOS\n",
    "- ``in``: devuelve valor booleano ``True`` si un elemento está en un diccionario\n",
    "- ``not in``: devuelve valor booleano ``False`` si un elemento está en un diccionario\n",
    "- ``del``: borra la clave (y su valor) indicada\n",
    "- ``clear``: borra todo el contenido del diccionario"
   ]
  },
  {
   "cell_type": "code",
   "execution_count": 85,
   "metadata": {},
   "outputs": [
    {
     "data": {
      "text/plain": [
       "True"
      ]
     },
     "execution_count": 85,
     "metadata": {},
     "output_type": "execute_result"
    }
   ],
   "source": [
    "'grifo' in estado"
   ]
  },
  {
   "cell_type": "code",
   "execution_count": 86,
   "metadata": {},
   "outputs": [
    {
     "data": {
      "text/plain": [
       "False"
      ]
     },
     "execution_count": 86,
     "metadata": {},
     "output_type": "execute_result"
    }
   ],
   "source": [
    "'trabajador' not in estado"
   ]
  },
  {
   "cell_type": "code",
   "execution_count": 87,
   "metadata": {},
   "outputs": [
    {
     "data": {
      "text/plain": [
       "{'tuberia': 'arreglado', 'enchufe': 'roto', 'grifo': 'en progreso'}"
      ]
     },
     "execution_count": 87,
     "metadata": {},
     "output_type": "execute_result"
    }
   ],
   "source": [
    "del estado['trabajador']\n",
    "estado"
   ]
  },
  {
   "cell_type": "code",
   "execution_count": 88,
   "metadata": {},
   "outputs": [
    {
     "data": {
      "text/plain": [
       "{}"
      ]
     },
     "execution_count": 88,
     "metadata": {},
     "output_type": "execute_result"
    }
   ],
   "source": [
    "estado.clear()\n",
    "estado"
   ]
  }
 ],
 "metadata": {
  "kernelspec": {
   "display_name": "Python 3",
   "language": "python",
   "name": "python3"
  },
  "language_info": {
   "codemirror_mode": {
    "name": "ipython",
    "version": 3
   },
   "file_extension": ".py",
   "mimetype": "text/x-python",
   "name": "python",
   "nbconvert_exporter": "python",
   "pygments_lexer": "ipython3",
   "version": "3.11.2"
  },
  "orig_nbformat": 4,
  "vscode": {
   "interpreter": {
    "hash": "f2602f62725692c171be4634a254054368e54a417e74eada098f42e0fd72e7fd"
   }
  }
 },
 "nbformat": 4,
 "nbformat_minor": 2
}
