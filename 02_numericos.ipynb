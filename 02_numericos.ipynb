{
 "cells": [
  {
   "attachments": {},
   "cell_type": "markdown",
   "metadata": {},
   "source": [
    "### NUMÉRICOS\n",
    "- Tipos\n",
    "- Operadores numéricos\n",
    "- Funciones numéricas (``abs``, ``round``, ``pow``, ``min``, ``max``, ``bin``, ``oct``, ``hex``)\n",
    "- Operaciones con **``math``** y **``numpy``** (``ceil``, ``floor``, ``sqrt``, ``sin``...)"
   ]
  },
  {
   "attachments": {},
   "cell_type": "markdown",
   "metadata": {},
   "source": [
    "#### TIPOS\n",
    "- Predominan ``int`` y ``float``.\n",
    "- Existen las funciones con dichos nombres, para convertir el tipo de un dato."
   ]
  },
  {
   "cell_type": "code",
   "execution_count": 6,
   "metadata": {},
   "outputs": [
    {
     "name": "stdout",
     "output_type": "stream",
     "text": [
      "3 <class 'int'> 3.0 <class 'float'>\n"
     ]
    }
   ],
   "source": [
    "print(3, type(3), 3.0, type(3.0))"
   ]
  },
  {
   "cell_type": "code",
   "execution_count": 7,
   "metadata": {},
   "outputs": [
    {
     "name": "stdout",
     "output_type": "stream",
     "text": [
      "3.0 <class 'float'>\n",
      "3 <class 'int'>\n"
     ]
    }
   ],
   "source": [
    "a = float(3)\n",
    "b = int(3.0)\n",
    "print(a, type(a))\n",
    "print(b, type(b))"
   ]
  },
  {
   "cell_type": "code",
   "execution_count": 8,
   "metadata": {},
   "outputs": [
    {
     "name": "stdout",
     "output_type": "stream",
     "text": [
      "1\n",
      "0.0\n",
      "47802\n",
      "100\n",
      "4\n"
     ]
    }
   ],
   "source": [
    "print(int(True))\n",
    "print(float(False))\n",
    "print(int('baba', 16))\n",
    "print(int('100'))\n",
    "print(int('100', 2))\n"
   ]
  },
  {
   "attachments": {},
   "cell_type": "markdown",
   "metadata": {},
   "source": [
    "#### OPERADORES NUMÉRICOS\n",
    "- Permiten realizar cálculos entre números\n",
    "- ``+``, ``-``, ``*``, ``/``, ``//`` (división entera, devuelve el cociente de la división), ``%`` (módulo, devuelve el resto de la división) y ``**`` (potencia)\n",
    "- ¡Ojo en **python 2**! ``/`` es la división entera si se hace con dos ``int``\n",
    "- Sea ``#`` un operador matemático, su cumple que:\n",
    "    - ``var1 #= var2`` es equivalente a ``var1 = var1 # var2``"
   ]
  },
  {
   "cell_type": "code",
   "execution_count": 9,
   "metadata": {},
   "outputs": [
    {
     "name": "stdout",
     "output_type": "stream",
     "text": [
      "102\n",
      "100\n",
      "200\n",
      "100.0\n",
      "10000.0\n",
      "5000.0\n",
      "0.0\n"
     ]
    }
   ],
   "source": [
    "a = 100\n",
    "b = 2\n",
    "a += b\n",
    "print(a) # a = 100 + 2\n",
    "a -= b\n",
    "print(a) # a = 102 - 2\n",
    "a *= b\n",
    "print(a) # a = 100 * 2\n",
    "a /= b\n",
    "print(a) # a = 200 / 2\n",
    "a **= b\n",
    "print(a) # a = 100^2\n",
    "a //= b\n",
    "print(a) # a = 10000 // 2\n",
    "a %= b\n",
    "print(a) # a = 5000 % 2\n"
   ]
  },
  {
   "attachments": {},
   "cell_type": "markdown",
   "metadata": {},
   "source": [
    "#### FUNCIONES NUMÉRICAS\n",
    "- ``abs(x)``: valor absoluto de *x*\n",
    "- ``round(x[, n])``: redondea *x* a *n* decimales. *n* es opcional, si no se indica toma el valor de cero\n",
    "- ``pow(x, y[, z])``: *x* es elevado a *y* con módulo *z* (opcional, si no se indica vale *None*)\n",
    "- ``min(x)``: halla el valor mínimo de una serie de números\n",
    "- ``max(x)``: halla el valor máximo de una serie de números\n",
    "- ``bin(x)``, ``oct(x)`` y ``hex(x)``: valro binario, octal y hexadecimal de *x*\n"
   ]
  },
  {
   "attachments": {},
   "cell_type": "markdown",
   "metadata": {},
   "source": [
    "#### OPERACIONES CON ``math`` y ``numpy``\n",
    "- tienen constantes (pi, inf, nan, ...) y funciones  ya definidas de mucha utilidad\n",
    "- Funciones interesantes:\n",
    "    - **``ceil(x)``**: Calcula el entero más cercano superior de *x*\n",
    "    - **``floor(x)``**: Calcula el entero más cercano inferior de *x*\n",
    "    - ``isclose(x, y)``: Calcula si dos números están cerca (útil para *floats*)\n",
    "    - ``log(x, b)``: logaritmo en base *b* \n",
    "    - ``log2(x)``: logaritmo en base 2\n",
    "    - ``log10(x)``: logaritmo en base 10\n",
    "    - ``sqrt(x)``: raiz cuadrada \n",
    "    - ``sin(x)``: seno de *x* (en radianes)\n",
    "    - ``cos(x)``: coseno de *x* (en radianes)\n",
    "    - ``tan(x)``: tangente de *x* (en radianes)"
   ]
  },
  {
   "cell_type": "code",
   "execution_count": 2,
   "metadata": {},
   "outputs": [],
   "source": [
    "import numpy as np\n",
    "import math"
   ]
  },
  {
   "cell_type": "code",
   "execution_count": null,
   "metadata": {},
   "outputs": [
    {
     "name": "stdout",
     "output_type": "stream",
     "text": [
      "6 <class 'int'>\n",
      "6.0 <class 'numpy.float64'>\n"
     ]
    }
   ],
   "source": [
    "print(math.ceil(5.1), type(math.ceil(5.1)))\n",
    "print(np.ceil(5.1), type(np.ceil(5.1)))"
   ]
  },
  {
   "cell_type": "code",
   "execution_count": 74,
   "metadata": {},
   "outputs": [
    {
     "name": "stdout",
     "output_type": "stream",
     "text": [
      "6\n",
      "6.0\n"
     ]
    }
   ],
   "source": [
    "print(math.floor(6.9))\n",
    "print(np.floor(6.9))"
   ]
  },
  {
   "cell_type": "code",
   "execution_count": 89,
   "metadata": {},
   "outputs": [
    {
     "name": "stdout",
     "output_type": "stream",
     "text": [
      "False\n",
      "False\n"
     ]
    }
   ],
   "source": [
    "print(math.isclose(2.5, 6.3))\n",
    "print(np.isclose(2.5, 2.501))"
   ]
  },
  {
   "cell_type": "code",
   "execution_count": 90,
   "metadata": {},
   "outputs": [
    {
     "name": "stdout",
     "output_type": "stream",
     "text": [
      "Help on function isclose in module numpy:\n",
      "\n",
      "isclose(a, b, rtol=1e-05, atol=1e-08, equal_nan=False)\n",
      "    Returns a boolean array where two arrays are element-wise equal within a\n",
      "    tolerance.\n",
      "    \n",
      "    The tolerance values are positive, typically very small numbers.  The\n",
      "    relative difference (`rtol` * abs(`b`)) and the absolute difference\n",
      "    `atol` are added together to compare against the absolute difference\n",
      "    between `a` and `b`.\n",
      "    \n",
      "    .. warning:: The default `atol` is not appropriate for comparing numbers\n",
      "                 that are much smaller than one (see Notes).\n",
      "    \n",
      "    Parameters\n",
      "    ----------\n",
      "    a, b : array_like\n",
      "        Input arrays to compare.\n",
      "    rtol : float\n",
      "        The relative tolerance parameter (see Notes).\n",
      "    atol : float\n",
      "        The absolute tolerance parameter (see Notes).\n",
      "    equal_nan : bool\n",
      "        Whether to compare NaN's as equal.  If True, NaN's in `a` will be\n",
      "        considered equal to NaN's in `b` in the output array.\n",
      "    \n",
      "    Returns\n",
      "    -------\n",
      "    y : array_like\n",
      "        Returns a boolean array of where `a` and `b` are equal within the\n",
      "        given tolerance. If both `a` and `b` are scalars, returns a single\n",
      "        boolean value.\n",
      "    \n",
      "    See Also\n",
      "    --------\n",
      "    allclose\n",
      "    math.isclose\n",
      "    \n",
      "    Notes\n",
      "    -----\n",
      "    .. versionadded:: 1.7.0\n",
      "    \n",
      "    For finite values, isclose uses the following equation to test whether\n",
      "    two floating point values are equivalent.\n",
      "    \n",
      "     absolute(`a` - `b`) <= (`atol` + `rtol` * absolute(`b`))\n",
      "    \n",
      "    Unlike the built-in `math.isclose`, the above equation is not symmetric\n",
      "    in `a` and `b` -- it assumes `b` is the reference value -- so that\n",
      "    `isclose(a, b)` might be different from `isclose(b, a)`. Furthermore,\n",
      "    the default value of atol is not zero, and is used to determine what\n",
      "    small values should be considered close to zero. The default value is\n",
      "    appropriate for expected values of order unity: if the expected values\n",
      "    are significantly smaller than one, it can result in false positives.\n",
      "    `atol` should be carefully selected for the use case at hand. A zero value\n",
      "    for `atol` will result in `False` if either `a` or `b` is zero.\n",
      "    \n",
      "    `isclose` is not defined for non-numeric data types.\n",
      "    \n",
      "    Examples\n",
      "    --------\n",
      "    >>> np.isclose([1e10,1e-7], [1.00001e10,1e-8])\n",
      "    array([ True, False])\n",
      "    >>> np.isclose([1e10,1e-8], [1.00001e10,1e-9])\n",
      "    array([ True, True])\n",
      "    >>> np.isclose([1e10,1e-8], [1.0001e10,1e-9])\n",
      "    array([False,  True])\n",
      "    >>> np.isclose([1.0, np.nan], [1.0, np.nan])\n",
      "    array([ True, False])\n",
      "    >>> np.isclose([1.0, np.nan], [1.0, np.nan], equal_nan=True)\n",
      "    array([ True, True])\n",
      "    >>> np.isclose([1e-8, 1e-7], [0.0, 0.0])\n",
      "    array([ True, False])\n",
      "    >>> np.isclose([1e-100, 1e-7], [0.0, 0.0], atol=0.0)\n",
      "    array([False, False])\n",
      "    >>> np.isclose([1e-10, 1e-10], [1e-20, 0.0])\n",
      "    array([ True,  True])\n",
      "    >>> np.isclose([1e-10, 1e-10], [1e-20, 0.999999e-10], atol=0.0)\n",
      "    array([False,  True])\n",
      "\n"
     ]
    }
   ],
   "source": [
    "help(np.isclose)"
   ]
  }
 ],
 "metadata": {
  "kernelspec": {
   "display_name": "Python 3",
   "language": "python",
   "name": "python3"
  },
  "language_info": {
   "codemirror_mode": {
    "name": "ipython",
    "version": 3
   },
   "file_extension": ".py",
   "mimetype": "text/x-python",
   "name": "python",
   "nbconvert_exporter": "python",
   "pygments_lexer": "ipython3",
   "version": "3.11.2"
  },
  "orig_nbformat": 4,
  "vscode": {
   "interpreter": {
    "hash": "f2602f62725692c171be4634a254054368e54a417e74eada098f42e0fd72e7fd"
   }
  }
 },
 "nbformat": 4,
 "nbformat_minor": 2
}
