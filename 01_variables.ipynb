{
 "cells": [
  {
   "attachments": {},
   "cell_type": "markdown",
   "metadata": {},
   "source": [
    "### VARIABLES\n",
    "- Convenio\n",
    "- Identificadores de las variables\n",
    "- Literales (uso de ``type``)\n",
    "- Asignación de variables\n",
    "- Intercambiar variables"
   ]
  },
  {
   "attachments": {},
   "cell_type": "markdown",
   "metadata": {},
   "source": [
    "#### CONVENIO\n",
    "- **Variables literales:** minúscula y separadas con guión bajo\n",
    "- **Constantes:** en mayúscula\n",
    "- **Variables uso interno:** guión bajo comooprefijo\n",
    "- **Variable privada:** doble guión bajo como prefijo"
   ]
  },
  {
   "attachments": {},
   "cell_type": "markdown",
   "metadata": {},
   "source": [
    "#### IDENTIFICADORES DE LAS VARIABLES\n",
    "\n",
    "NO pueden llamarse como las palabras "
   ]
  },
  {
   "cell_type": "code",
   "execution_count": 47,
   "metadata": {},
   "outputs": [
    {
     "name": "stdout",
     "output_type": "stream",
     "text": [
      "['False', 'None', 'True', '__peg_parser__', 'and', 'as', 'assert', 'async', 'await', 'break', 'class', 'continue', 'def', 'del', 'elif', 'else', 'except', 'finally', 'for', 'from', 'global', 'if', 'import', 'in', 'is', 'lambda', 'nonlocal', 'not', 'or', 'pass', 'raise', 'return', 'try', 'while', 'with', 'yield']\n"
     ]
    }
   ],
   "source": [
    "import keyword\n",
    "\n",
    "print(keyword.kwlist)"
   ]
  },
  {
   "attachments": {},
   "cell_type": "markdown",
   "metadata": {},
   "source": [
    "#### LITERALES\n",
    "Para saber de que tipo es una variable literal, usar *type*"
   ]
  },
  {
   "cell_type": "code",
   "execution_count": 48,
   "metadata": {},
   "outputs": [
    {
     "name": "stdout",
     "output_type": "stream",
     "text": [
      "<class 'int'>\n",
      "<class 'NoneType'>\n",
      "<class 'list'>\n",
      "<class 'str'>\n",
      "<class 'int'> sí, es un número: el 65530\n"
     ]
    }
   ],
   "source": [
    "print(type(42))\n",
    "print(type(None))\n",
    "print(type([1, 2, 3]))\n",
    "print(type(\"Hola\"))\n",
    "print(type(0xfffa), f\"sí, es un número: el {0xfffa}\")"
   ]
  },
  {
   "attachments": {},
   "cell_type": "markdown",
   "metadata": {},
   "source": [
    "#### ASIGNACIÓN DE VARIABLES"
   ]
  },
  {
   "cell_type": "code",
   "execution_count": 49,
   "metadata": {},
   "outputs": [
    {
     "name": "stdout",
     "output_type": "stream",
     "text": [
      "42\n",
      "Nombre\n"
     ]
    }
   ],
   "source": [
    "a = 42\n",
    "b = c = \"Nombre\"\n",
    "d, e, f = \"Calle\", \"Portal\", \"Piso\"\n",
    "\n",
    "print(a)\n",
    "print(b)"
   ]
  },
  {
   "attachments": {},
   "cell_type": "markdown",
   "metadata": {},
   "source": [
    "#### INTERCAMBIAR VARIABLES"
   ]
  },
  {
   "cell_type": "code",
   "execution_count": 50,
   "metadata": {},
   "outputs": [
    {
     "name": "stdout",
     "output_type": "stream",
     "text": [
      "Nombre\n",
      "42\n"
     ]
    }
   ],
   "source": [
    "a, b = b, a\n",
    "print(a)\n",
    "print(b)"
   ]
  }
 ],
 "metadata": {
  "kernelspec": {
   "display_name": "Python 3",
   "language": "python",
   "name": "python3"
  },
  "language_info": {
   "codemirror_mode": {
    "name": "ipython",
    "version": 3
   },
   "file_extension": ".py",
   "mimetype": "text/x-python",
   "name": "python",
   "nbconvert_exporter": "python",
   "pygments_lexer": "ipython3",
   "version": "3.9.7"
  },
  "orig_nbformat": 4
 },
 "nbformat": 4,
 "nbformat_minor": 2
}
