{
 "cells": [
  {
   "attachments": {},
   "cell_type": "markdown",
   "metadata": {},
   "source": [
    "### CONJUNTOS\n",
    "- Concepto\n",
    "- Uso típico (operaciones con listas)\n",
    "- Operaciones **con** conjuntos (``in``, ``not in``)\n",
    "- Operaciones **entre** conjuntos (``-``, ``|``, ``&`` y ``^``)\n",
    "- ``frozenset``\n",
    "- *Ejercicios*"
   ]
  },
  {
   "attachments": {},
   "cell_type": "markdown",
   "metadata": {},
   "source": [
    "#### CONCEPTO\n",
    "- Colecciones **no ordenadas sin elementos duplicados**\n",
    "- Notados con valores entre comas y entre llaves\n",
    "- Pueden definirse mediante ``set()``\n",
    "- Muy comunes en las operaciones con listas"
   ]
  },
  {
   "cell_type": "code",
   "execution_count": 12,
   "metadata": {},
   "outputs": [
    {
     "name": "stdout",
     "output_type": "stream",
     "text": [
      "{'llaves', 'cartera'} <class 'set'>\n",
      "{'teléfono'} <class 'set'>\n"
     ]
    },
    {
     "data": {
      "text/plain": [
       "True"
      ]
     },
     "execution_count": 12,
     "metadata": {},
     "output_type": "execute_result"
    }
   ],
   "source": [
    "bolsillo_derecho = {'cartera', 'llaves'}\n",
    "bolsillo_izquierdo = set(('teléfono',))\n",
    "\n",
    "print(bolsillo_derecho, type(bolsillo_derecho))\n",
    "print(bolsillo_izquierdo, type(bolsillo_izquierdo))\n",
    "\n",
    "'llaves' in bolsillo_derecho"
   ]
  },
  {
   "attachments": {},
   "cell_type": "markdown",
   "metadata": {},
   "source": [
    "##### USO TÍPICO\n",
    "- **Eliminar duplicados** de una lista **o almacenar valores únicos** de una serie de elementos."
   ]
  },
  {
   "cell_type": "code",
   "execution_count": 13,
   "metadata": {},
   "outputs": [
    {
     "name": "stdout",
     "output_type": "stream",
     "text": [
      "[1, 2, 3, 4, 5]\n"
     ]
    }
   ],
   "source": [
    "lista_elementos = [1,2,3,4,5,4,4,3,3,2,2,1,1,5,5]\n",
    "lista_elementos_unicos = list(set(lista_elementos))\n",
    "print(lista_elementos_unicos)"
   ]
  },
  {
   "attachments": {},
   "cell_type": "markdown",
   "metadata": {},
   "source": [
    "#### OPERACIONES CON CONJUNTOS\n",
    "- ``in``: devuelve valor booleano ``True`` si un elemento está en un conjunto\n",
    "- ``not in``: devuelve valor booleano ``False`` si un elemento está en un conjunto\n",
    "- ``add``: añade elementos al conjunto (si no es un ``frozenset``)"
   ]
  },
  {
   "cell_type": "code",
   "execution_count": 14,
   "metadata": {},
   "outputs": [
    {
     "data": {
      "text/plain": [
       "True"
      ]
     },
     "execution_count": 14,
     "metadata": {},
     "output_type": "execute_result"
    }
   ],
   "source": [
    "'llaves' in bolsillo_derecho"
   ]
  },
  {
   "cell_type": "code",
   "execution_count": 15,
   "metadata": {},
   "outputs": [
    {
     "data": {
      "text/plain": [
       "False"
      ]
     },
     "execution_count": 15,
     "metadata": {},
     "output_type": "execute_result"
    }
   ],
   "source": [
    "'teléfono' not in bolsillo_izquierdo"
   ]
  },
  {
   "cell_type": "code",
   "execution_count": 16,
   "metadata": {},
   "outputs": [
    {
     "data": {
      "text/plain": [
       "{'moneda', 'teléfono'}"
      ]
     },
     "execution_count": 16,
     "metadata": {},
     "output_type": "execute_result"
    }
   ],
   "source": [
    "bolsillo_izquierdo.add('moneda')\n",
    "bolsillo_izquierdo"
   ]
  },
  {
   "attachments": {},
   "cell_type": "markdown",
   "metadata": {},
   "source": [
    "#### OPERACIONES ENTRE CONJUNTOS\n",
    "Estas operaciones devuelven un nuevo conjunto.\n",
    "- Diferencia (``a - b``): muestra los elementos de ``a`` que no están en ``b``\n",
    "- Unión (``a | b``)\n",
    "- Intersección (``a & b``)\n",
    "- Diferencia simétrica (``a ^b``): elementos en ``a`` o en ``b``, pero no en ambos)"
   ]
  },
  {
   "cell_type": "code",
   "execution_count": 17,
   "metadata": {},
   "outputs": [
    {
     "name": "stdout",
     "output_type": "stream",
     "text": [
      "{'llaves', 'cartera'}\n",
      "{'llaves', 'moneda', 'teléfono', 'cartera'}\n",
      "set()\n",
      "{'llaves', 'teléfono', 'cartera', 'moneda'}\n"
     ]
    }
   ],
   "source": [
    "print(bolsillo_derecho - bolsillo_izquierdo)\n",
    "print(bolsillo_derecho | bolsillo_izquierdo)\n",
    "print(bolsillo_derecho & bolsillo_izquierdo)\n",
    "print(bolsillo_derecho ^ bolsillo_izquierdo)"
   ]
  },
  {
   "attachments": {},
   "cell_type": "markdown",
   "metadata": {},
   "source": [
    "#### ``frozenset``\n",
    "- Son conjuntons **inmutables**"
   ]
  },
  {
   "cell_type": "code",
   "execution_count": 18,
   "metadata": {},
   "outputs": [
    {
     "name": "stdout",
     "output_type": "stream",
     "text": [
      "{'rojo', 'ambar, pero me da tiempo', 'verde', 'ambar'}\n"
     ]
    },
    {
     "ename": "AttributeError",
     "evalue": "'frozenset' object has no attribute 'add'",
     "output_type": "error",
     "traceback": [
      "\u001b[1;31m---------------------------------------------------------------------------\u001b[0m",
      "\u001b[1;31mAttributeError\u001b[0m                            Traceback (most recent call last)",
      "Cell \u001b[1;32mIn[18], line 5\u001b[0m\n\u001b[0;32m      3\u001b[0m \u001b[39mprint\u001b[39m(valid)\n\u001b[0;32m      4\u001b[0m valid_frozen \u001b[39m=\u001b[39m \u001b[39mfrozenset\u001b[39m((\u001b[39m'\u001b[39m\u001b[39mrojo\u001b[39m\u001b[39m'\u001b[39m, \u001b[39m'\u001b[39m\u001b[39mambar\u001b[39m\u001b[39m'\u001b[39m, \u001b[39m'\u001b[39m\u001b[39mverde\u001b[39m\u001b[39m'\u001b[39m))\n\u001b[1;32m----> 5\u001b[0m valid_frozen\u001b[39m.\u001b[39;49madd(\u001b[39m'\u001b[39m\u001b[39mambar, pero me da tiempo\u001b[39m\u001b[39m'\u001b[39m)\n",
      "\u001b[1;31mAttributeError\u001b[0m: 'frozenset' object has no attribute 'add'"
     ]
    }
   ],
   "source": [
    "valid = set(('rojo', 'ambar', 'verde'))\n",
    "valid.add('ambar, pero me da tiempo')\n",
    "print(valid)\n",
    "valid_frozen = frozenset(('rojo', 'ambar', 'verde'))\n",
    "valid_frozen.add('ambar, pero me da tiempo')"
   ]
  },
  {
   "attachments": {},
   "cell_type": "markdown",
   "metadata": {},
   "source": [
    "#### *EJERCICIOS*\n",
    "- Comparar elementos entre dos listas\n",
    "- Obtener elementos de una lista que no aparecen en otra\n",
    "- Detectar elementos duplicados de una lista\n",
    "- **Eliminar duplicados**"
   ]
  },
  {
   "attachments": {},
   "cell_type": "markdown",
   "metadata": {},
   "source": [
    "##### Comparar elementos entre dos listas"
   ]
  },
  {
   "cell_type": "code",
   "execution_count": 19,
   "metadata": {},
   "outputs": [
    {
     "name": "stdout",
     "output_type": "stream",
     "text": [
      "{2, 4}\n"
     ]
    }
   ],
   "source": [
    "lista1 = [1,2,3,4]\n",
    "lista2 = [2,4,6,8]\n",
    "\n",
    "set1 = set(lista1)\n",
    "set2 = set(lista2)\n",
    "\n",
    "interseccion = set1.intersection(set2)\n",
    "\n",
    "print(interseccion)"
   ]
  },
  {
   "attachments": {},
   "cell_type": "markdown",
   "metadata": {},
   "source": [
    "##### Obtener elementos de una lista que no aparecen en otra"
   ]
  },
  {
   "cell_type": "code",
   "execution_count": 20,
   "metadata": {},
   "outputs": [
    {
     "name": "stdout",
     "output_type": "stream",
     "text": [
      "{1, 3}\n"
     ]
    }
   ],
   "source": [
    "diferencia = set1 - set2\n",
    "\n",
    "print(diferencia)"
   ]
  },
  {
   "attachments": {},
   "cell_type": "markdown",
   "metadata": {},
   "source": [
    "##### Detectar elementos duplicados de una lista"
   ]
  },
  {
   "cell_type": "code",
   "execution_count": 1,
   "metadata": {},
   "outputs": [
    {
     "name": "stdout",
     "output_type": "stream",
     "text": [
      "Hay elementos duplicados en la lista\n"
     ]
    }
   ],
   "source": [
    "lista = [1, 2, 3, 4, 1, 2, 5]\n",
    "\n",
    "if len(lista) != len(set(lista)):\n",
    "    print('Hay elementos duplicados en la lista')"
   ]
  },
  {
   "attachments": {},
   "cell_type": "markdown",
   "metadata": {},
   "source": [
    "##### **Eliminar duplicados**"
   ]
  },
  {
   "cell_type": "code",
   "execution_count": 2,
   "metadata": {},
   "outputs": [
    {
     "data": {
      "text/plain": [
       "[1, 2, 3, 4, 5]"
      ]
     },
     "execution_count": 2,
     "metadata": {},
     "output_type": "execute_result"
    }
   ],
   "source": [
    "def eliminar_duplicados(lista):\n",
    "    return list(set(lista))\n",
    "\n",
    "eliminar_duplicados(lista)"
   ]
  }
 ],
 "metadata": {
  "kernelspec": {
   "display_name": "Python 3",
   "language": "python",
   "name": "python3"
  },
  "language_info": {
   "codemirror_mode": {
    "name": "ipython",
    "version": 3
   },
   "file_extension": ".py",
   "mimetype": "text/x-python",
   "name": "python",
   "nbconvert_exporter": "python",
   "pygments_lexer": "ipython3",
   "version": "3.9.7"
  },
  "orig_nbformat": 4,
  "vscode": {
   "interpreter": {
    "hash": "f2602f62725692c171be4634a254054368e54a417e74eada098f42e0fd72e7fd"
   }
  }
 },
 "nbformat": 4,
 "nbformat_minor": 2
}
